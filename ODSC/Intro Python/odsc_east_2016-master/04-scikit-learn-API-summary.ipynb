{
 "cells": [
  {
   "cell_type": "code",
   "execution_count": 1,
   "metadata": {
    "collapsed": true,
    "hide_input": true
   },
   "outputs": [],
   "source": [
    "%matplotlib inline\n",
    "from preamble import *"
   ]
  },
  {
   "cell_type": "markdown",
   "metadata": {},
   "source": [
    "# Summary of scikit-learn methods and usage\n",
    "## The Estimator Interface"
   ]
  },
  {
   "cell_type": "code",
   "execution_count": 2,
   "metadata": {
    "collapsed": true
   },
   "outputs": [],
   "source": [
    "from sklearn.linear_model import LogisticRegression\n",
    "logreg = LogisticRegression()"
   ]
  },
  {
   "cell_type": "markdown",
   "metadata": {},
   "source": [
    "![api_table](images/api_table.png)"
   ]
  },
  {
   "cell_type": "markdown",
   "metadata": {},
   "source": [
    "## Fit resets a model"
   ]
  },
  {
   "cell_type": "code",
   "execution_count": 3,
   "metadata": {
    "collapsed": false
   },
   "outputs": [
    {
     "data": {
      "text/plain": [
       "array([ True,  True,  True,  True,  True,  True,  True,  True,  True,\n",
       "        True,  True,  True,  True,  True,  True,  True,  True,  True,\n",
       "        True,  True,  True,  True,  True,  True,  True], dtype=bool)"
      ]
     },
     "execution_count": 3,
     "metadata": {},
     "output_type": "execute_result"
    }
   ],
   "source": [
    "# get some data\n",
    "from sklearn.datasets import make_blobs, load_iris\n",
    "from sklearn.cross_validation import train_test_split\n",
    "\n",
    "# load iris\n",
    "iris = load_iris()\n",
    "\n",
    "# create some blobs\n",
    "X, y = make_blobs(random_state=0, centers=4)\n",
    "X_train, X_test, y_train, y_test = train_test_split(X, y, random_state=0)\n",
    "\n",
    "# build a model on the iris dataset\n",
    "logreg = LogisticRegression()\n",
    "logreg.fit(iris.data, iris.target)\n",
    "# fit the model again on the blob dataset\n",
    "logreg.fit(X_train, y_train)\n",
    "# the outcome is the same as training a \"fresh\" model:\n",
    "new_logreg = LogisticRegression()\n",
    "new_logreg.fit(X_train, y_train)\n",
    "\n",
    "# predictions made by the two models are the same\n",
    "pred_new_logreg = new_logreg.predict(X_test)\n",
    "pred_logreg = logreg.predict(X_test)\n",
    "\n",
    "pred_logreg == pred_new_logreg"
   ]
  },
  {
   "cell_type": "markdown",
   "metadata": {},
   "source": [
    "## Method chaining"
   ]
  },
  {
   "cell_type": "code",
   "execution_count": 4,
   "metadata": {
    "collapsed": false
   },
   "outputs": [],
   "source": [
    "# instantiate model and fit it in one line\n",
    "logreg = LogisticRegression().fit(X_train, y_train)"
   ]
  },
  {
   "cell_type": "code",
   "execution_count": 5,
   "metadata": {
    "collapsed": true
   },
   "outputs": [],
   "source": [
    "logreg = LogisticRegression()\n",
    "y_pred = logreg.fit(X_train, y_train).predict(X_test)"
   ]
  },
  {
   "cell_type": "code",
   "execution_count": 6,
   "metadata": {
    "collapsed": true
   },
   "outputs": [],
   "source": [
    "y_pred = LogisticRegression().fit(X_train, y_train).predict(X_test)"
   ]
  },
  {
   "cell_type": "markdown",
   "metadata": {},
   "source": [
    "## Shortcuts and efficient alternatives"
   ]
  },
  {
   "cell_type": "code",
   "execution_count": 7,
   "metadata": {
    "collapsed": false
   },
   "outputs": [],
   "source": [
    "from sklearn.decomposition import PCA\n",
    "pca = PCA()\n",
    "# calling fit and transform in sequence (using method chaining)\n",
    "X_pca = pca.fit(X).transform(X)\n",
    "# same result, but more efficient computation\n",
    "X_pca_2 = pca.fit_transform(X)"
   ]
  },
  {
   "cell_type": "markdown",
   "metadata": {},
   "source": [
    "## Important Attributes"
   ]
  },
  {
   "cell_type": "code",
   "execution_count": 8,
   "metadata": {
    "collapsed": false
   },
   "outputs": [
    {
     "name": "stdout",
     "output_type": "stream",
     "text": [
      "unique entries of iris.target: [0 1 2]\n",
      "classes using iris.target: [0 1 2]\n",
      "unique entries of named_target: ['setosa' 'versicolor' 'virginica']\n",
      "classes using named_target: ['setosa' 'versicolor' 'virginica']\n"
     ]
    }
   ],
   "source": [
    "import numpy as np\n",
    "logreg = LogisticRegression()\n",
    "# fit model using original data\n",
    "logreg.fit(iris.data, iris.target)\n",
    "print(\"unique entries of iris.target: %s\" % np.unique(iris.target))\n",
    "print(\"classes using iris.target: %s\" % logreg.classes_)\n",
    "\n",
    "# represent each target by its class name\n",
    "named_target = iris.target_names[iris.target]\n",
    "logreg.fit(iris.data, named_target)\n",
    "print(\"unique entries of named_target: %s\" % np.unique(named_target))\n",
    "print(\"classes using named_target: %s\" % logreg.classes_)"
   ]
  },
  {
   "cell_type": "markdown",
   "metadata": {},
   "source": [
    "## Summary and outlook"
   ]
  }
 ],
 "metadata": {
  "kernelspec": {
   "display_name": "Python 3",
   "language": "python",
   "name": "python3"
  },
  "language_info": {
   "codemirror_mode": {
    "name": "ipython",
    "version": 3
   },
   "file_extension": ".py",
   "mimetype": "text/x-python",
   "name": "python",
   "nbconvert_exporter": "python",
   "pygments_lexer": "ipython3",
   "version": "3.5.1"
  }
 },
 "nbformat": 4,
 "nbformat_minor": 0
}
