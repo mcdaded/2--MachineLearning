{
 "cells": [
  {
   "cell_type": "markdown",
   "metadata": {},
   "source": [
    "# San Diego Burrito Analytics: Rankings\n",
    "\n",
    "Scott Cole\n",
    "\n",
    "21 May 2016\n",
    "\n",
    "This notebook ranks each taco shop along each dimension"
   ]
  },
  {
   "cell_type": "markdown",
   "metadata": {},
   "source": [
    "### imports"
   ]
  },
  {
   "cell_type": "code",
   "execution_count": 11,
   "metadata": {
    "collapsed": false
   },
   "outputs": [],
   "source": [
    "%config InlineBackend.figure_format = 'retina'\n",
    "%matplotlib inline\n",
    "\n",
    "import numpy as np\n",
    "import scipy as sp\n",
    "import matplotlib.pyplot as plt\n",
    "import pandas as pd\n",
    "\n",
    "import seaborn as sns\n",
    "sns.set_style(\"white\")"
   ]
  },
  {
   "cell_type": "markdown",
   "metadata": {},
   "source": [
    "### Load data"
   ]
  },
  {
   "cell_type": "code",
   "execution_count": 12,
   "metadata": {
    "collapsed": true
   },
   "outputs": [],
   "source": [
    "filename=\"burrito_current.csv\"\n",
    "df = pd.read_csv(filename)\n",
    "N = df.shape[0]"
   ]
  },
  {
   "cell_type": "markdown",
   "metadata": {},
   "source": [
    "# Average each metric over each Location"
   ]
  },
  {
   "cell_type": "code",
   "execution_count": 14,
   "metadata": {
    "collapsed": true
   },
   "outputs": [],
   "source": [
    "# Avoid case issues; in the future should avoid article issues\n",
    "df.Location = df.Location.str.lower()\n",
    "m_Location = ['Location','N','Yelp','Google','Hunger','Cost','Volume','Tortilla','Temp','Meat','Fillings','Meat:filling',\n",
    "               'Uniformity','Salsa','Synergy','Wrap','overall']\n",
    "\n",
    "tacoshops = df.Location.unique()\n",
    "TS = len(tacoshops)\n",
    "dfmean = pd.DataFrame(np.nan, index=range(TS), columns=m_Location)\n",
    "for ts in range(TS):\n",
    "    dfmean.loc[ts] = df.loc[df.Location==tacoshops[ts]].mean()\n",
    "    dfmean['N'][ts] = sum(df.Location == tacoshops[ts])\n",
    "dfmean.Location = tacoshops"
   ]
  },
  {
   "cell_type": "code",
   "execution_count": 53,
   "metadata": {
    "collapsed": false
   },
   "outputs": [],
   "source": [
    "Ncutoff = 8\n",
    "dfToRank = dfmean.loc[dfmean.N>=Ncutoff]"
   ]
  },
  {
   "cell_type": "code",
   "execution_count": 54,
   "metadata": {
    "collapsed": false
   },
   "outputs": [
    {
     "data": {
      "text/html": [
       "<div>\n",
       "<table border=\"1\" class=\"dataframe\">\n",
       "  <thead>\n",
       "    <tr style=\"text-align: right;\">\n",
       "      <th></th>\n",
       "      <th>Location</th>\n",
       "      <th>N</th>\n",
       "      <th>Yelp</th>\n",
       "      <th>Google</th>\n",
       "      <th>Hunger</th>\n",
       "      <th>Cost</th>\n",
       "      <th>Volume</th>\n",
       "      <th>Tortilla</th>\n",
       "      <th>Temp</th>\n",
       "      <th>Meat</th>\n",
       "      <th>Fillings</th>\n",
       "      <th>Meat:filling</th>\n",
       "      <th>Uniformity</th>\n",
       "      <th>Salsa</th>\n",
       "      <th>Synergy</th>\n",
       "      <th>Wrap</th>\n",
       "      <th>overall</th>\n",
       "    </tr>\n",
       "  </thead>\n",
       "  <tbody>\n",
       "    <tr>\n",
       "      <th>7</th>\n",
       "      <td>taco stand</td>\n",
       "      <td>15</td>\n",
       "      <td>4.5</td>\n",
       "      <td>4.400000</td>\n",
       "      <td>3.100000</td>\n",
       "      <td>7.727333</td>\n",
       "      <td>0.787143</td>\n",
       "      <td>3.566667</td>\n",
       "      <td>2.933333</td>\n",
       "      <td>4.266667</td>\n",
       "      <td>3.966667</td>\n",
       "      <td>4.033333</td>\n",
       "      <td>3.766667</td>\n",
       "      <td>3.933333</td>\n",
       "      <td>4.2</td>\n",
       "      <td>3.966667</td>\n",
       "      <td>4.126667</td>\n",
       "    </tr>\n",
       "    <tr>\n",
       "      <th>9</th>\n",
       "      <td>rigoberto's taco shop</td>\n",
       "      <td>15</td>\n",
       "      <td>3.8</td>\n",
       "      <td>4.346667</td>\n",
       "      <td>3.533333</td>\n",
       "      <td>6.700000</td>\n",
       "      <td>0.930000</td>\n",
       "      <td>3.700000</td>\n",
       "      <td>3.866667</td>\n",
       "      <td>3.660714</td>\n",
       "      <td>3.700000</td>\n",
       "      <td>4.133333</td>\n",
       "      <td>3.766667</td>\n",
       "      <td>3.225000</td>\n",
       "      <td>4.0</td>\n",
       "      <td>3.866667</td>\n",
       "      <td>3.796667</td>\n",
       "    </tr>\n",
       "    <tr>\n",
       "      <th>18</th>\n",
       "      <td>vallarta express</td>\n",
       "      <td>9</td>\n",
       "      <td>3.5</td>\n",
       "      <td>4.000000</td>\n",
       "      <td>3.500000</td>\n",
       "      <td>6.933333</td>\n",
       "      <td>0.880000</td>\n",
       "      <td>2.916667</td>\n",
       "      <td>4.357143</td>\n",
       "      <td>3.277778</td>\n",
       "      <td>3.444444</td>\n",
       "      <td>3.611111</td>\n",
       "      <td>3.166667</td>\n",
       "      <td>3.500000</td>\n",
       "      <td>3.0</td>\n",
       "      <td>3.611111</td>\n",
       "      <td>3.500000</td>\n",
       "    </tr>\n",
       "  </tbody>\n",
       "</table>\n",
       "</div>"
      ],
      "text/plain": [
       "                 Location   N  Yelp    Google    Hunger      Cost    Volume  \\\n",
       "7              taco stand  15   4.5  4.400000  3.100000  7.727333  0.787143   \n",
       "9   rigoberto's taco shop  15   3.8  4.346667  3.533333  6.700000  0.930000   \n",
       "18       vallarta express   9   3.5  4.000000  3.500000  6.933333  0.880000   \n",
       "\n",
       "    Tortilla      Temp      Meat  Fillings  Meat:filling  Uniformity  \\\n",
       "7   3.566667  2.933333  4.266667  3.966667      4.033333    3.766667   \n",
       "9   3.700000  3.866667  3.660714  3.700000      4.133333    3.766667   \n",
       "18  2.916667  4.357143  3.277778  3.444444      3.611111    3.166667   \n",
       "\n",
       "       Salsa  Synergy      Wrap   overall  \n",
       "7   3.933333      4.2  3.966667  4.126667  \n",
       "9   3.225000      4.0  3.866667  3.796667  \n",
       "18  3.500000      3.0  3.611111  3.500000  "
      ]
     },
     "execution_count": 54,
     "metadata": {},
     "output_type": "execute_result"
    }
   ],
   "source": [
    "dfToRank"
   ]
  },
  {
   "cell_type": "code",
   "execution_count": 55,
   "metadata": {
    "collapsed": false
   },
   "outputs": [
    {
     "name": "stderr",
     "output_type": "stream",
     "text": [
      "C:\\Users\\Scott\\Anaconda2\\lib\\site-packages\\ipykernel\\__main__.py:7: SettingWithCopyWarning: \n",
      "A value is trying to be set on a copy of a slice from a DataFrame\n",
      "\n",
      "See the caveats in the documentation: http://pandas.pydata.org/pandas-docs/stable/indexing.html#indexing-view-versus-copy\n",
      "C:\\Users\\Scott\\Anaconda2\\lib\\site-packages\\ipykernel\\__main__.py:9: SettingWithCopyWarning: \n",
      "A value is trying to be set on a copy of a slice from a DataFrame\n",
      "\n",
      "See the caveats in the documentation: http://pandas.pydata.org/pandas-docs/stable/indexing.html#indexing-view-versus-copy\n"
     ]
    }
   ],
   "source": [
    "m_Rank = ['Location','Cost','Volume','Tortilla','Temp','Meat','Fillings','Meat:filling', 'Uniformity','Salsa','Synergy','Wrap','overall']\n",
    "TS = len(dfToRank)\n",
    "dfRanked = pd.DataFrame(np.nan, index=range(TS), columns=m_Rank)\n",
    "dfRanked.Location[:] = dfToRank.Location\n",
    "for m in m_Rank[1:]:\n",
    "    if m == 'Cost':\n",
    "        dfRanked[m][:] = dfToRank[m].rank(ascending=1)\n",
    "    else:\n",
    "        dfRanked[m][:] = dfToRank[m].rank(ascending=0)\n",
    "        "
   ]
  },
  {
   "cell_type": "code",
   "execution_count": 56,
   "metadata": {
    "collapsed": false
   },
   "outputs": [
    {
     "data": {
      "text/html": [
       "<div>\n",
       "<table border=\"1\" class=\"dataframe\">\n",
       "  <thead>\n",
       "    <tr style=\"text-align: right;\">\n",
       "      <th></th>\n",
       "      <th>Location</th>\n",
       "      <th>Cost</th>\n",
       "      <th>Volume</th>\n",
       "      <th>Tortilla</th>\n",
       "      <th>Temp</th>\n",
       "      <th>Meat</th>\n",
       "      <th>Fillings</th>\n",
       "      <th>Meat:filling</th>\n",
       "      <th>Uniformity</th>\n",
       "      <th>Salsa</th>\n",
       "      <th>Synergy</th>\n",
       "      <th>Wrap</th>\n",
       "      <th>overall</th>\n",
       "    </tr>\n",
       "  </thead>\n",
       "  <tbody>\n",
       "    <tr>\n",
       "      <th>0</th>\n",
       "      <td>taco stand</td>\n",
       "      <td>3</td>\n",
       "      <td>3</td>\n",
       "      <td>2</td>\n",
       "      <td>3</td>\n",
       "      <td>1</td>\n",
       "      <td>1</td>\n",
       "      <td>2</td>\n",
       "      <td>1.5</td>\n",
       "      <td>1</td>\n",
       "      <td>1</td>\n",
       "      <td>1</td>\n",
       "      <td>1</td>\n",
       "    </tr>\n",
       "    <tr>\n",
       "      <th>1</th>\n",
       "      <td>rigoberto's taco shop</td>\n",
       "      <td>1</td>\n",
       "      <td>1</td>\n",
       "      <td>1</td>\n",
       "      <td>2</td>\n",
       "      <td>2</td>\n",
       "      <td>2</td>\n",
       "      <td>1</td>\n",
       "      <td>1.5</td>\n",
       "      <td>3</td>\n",
       "      <td>2</td>\n",
       "      <td>2</td>\n",
       "      <td>2</td>\n",
       "    </tr>\n",
       "    <tr>\n",
       "      <th>2</th>\n",
       "      <td>vallarta express</td>\n",
       "      <td>2</td>\n",
       "      <td>2</td>\n",
       "      <td>3</td>\n",
       "      <td>1</td>\n",
       "      <td>3</td>\n",
       "      <td>3</td>\n",
       "      <td>3</td>\n",
       "      <td>3.0</td>\n",
       "      <td>2</td>\n",
       "      <td>3</td>\n",
       "      <td>3</td>\n",
       "      <td>3</td>\n",
       "    </tr>\n",
       "  </tbody>\n",
       "</table>\n",
       "</div>"
      ],
      "text/plain": [
       "                Location  Cost  Volume  Tortilla  Temp  Meat  Fillings  \\\n",
       "0             taco stand     3       3         2     3     1         1   \n",
       "1  rigoberto's taco shop     1       1         1     2     2         2   \n",
       "2       vallarta express     2       2         3     1     3         3   \n",
       "\n",
       "   Meat:filling  Uniformity  Salsa  Synergy  Wrap  overall  \n",
       "0             2         1.5      1        1     1        1  \n",
       "1             1         1.5      3        2     2        2  \n",
       "2             3         3.0      2        3     3        3  "
      ]
     },
     "execution_count": 56,
     "metadata": {},
     "output_type": "execute_result"
    }
   ],
   "source": [
    "dfRanked"
   ]
  },
  {
   "cell_type": "markdown",
   "metadata": {},
   "source": [
    "# Best california"
   ]
  },
  {
   "cell_type": "code",
   "execution_count": null,
   "metadata": {
    "collapsed": true
   },
   "outputs": [],
   "source": [
    "#TODO"
   ]
  }
 ],
 "metadata": {
  "kernelspec": {
   "display_name": "Python 2",
   "language": "python",
   "name": "python2"
  },
  "language_info": {
   "codemirror_mode": {
    "name": "ipython",
    "version": 2
   },
   "file_extension": ".py",
   "mimetype": "text/x-python",
   "name": "python",
   "nbconvert_exporter": "python",
   "pygments_lexer": "ipython2",
   "version": "2.7.11"
  }
 },
 "nbformat": 4,
 "nbformat_minor": 0
}
