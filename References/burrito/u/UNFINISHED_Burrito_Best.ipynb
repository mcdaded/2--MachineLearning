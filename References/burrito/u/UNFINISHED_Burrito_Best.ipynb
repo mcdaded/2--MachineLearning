{
 "cells": [
  {
   "cell_type": "markdown",
   "metadata": {},
   "source": [
    "# San Diego Burrito Analytics: The best burritos (under construction)\n",
    "\n",
    "Scott Cole\n",
    "\n",
    "21 May 2016\n",
    "\n",
    "This notebook will determine the best and worst burritos across the different dimensions, such as:\n",
    "1. What taco shop has the highest rated burritos?\n",
    "2. What taco shop has the best California burrito?\n",
    "3. What taco shop has the most optimal meat-to-filling ratio?"
   ]
  },
  {
   "cell_type": "markdown",
   "metadata": {},
   "source": [
    "# Default imports"
   ]
  },
  {
   "cell_type": "code",
   "execution_count": 1,
   "metadata": {
    "collapsed": false
   },
   "outputs": [
    {
     "name": "stderr",
     "output_type": "stream",
     "text": [
      "C:\\Users\\Scott\\Anaconda2\\lib\\site-packages\\matplotlib\\__init__.py:872: UserWarning: axes.color_cycle is deprecated and replaced with axes.prop_cycle; please use the latter.\n",
      "  warnings.warn(self.msg_depr % (key, alt_key))\n"
     ]
    }
   ],
   "source": [
    "%config InlineBackend.figure_format = 'retina'\n",
    "%matplotlib inline\n",
    "\n",
    "import numpy as np\n",
    "import scipy as sp\n",
    "import matplotlib.pyplot as plt\n",
    "import pandas as pd\n",
    "\n",
    "import seaborn as sns\n",
    "sns.set_style(\"white\")"
   ]
  },
  {
   "cell_type": "markdown",
   "metadata": {},
   "source": [
    "# Load data"
   ]
  },
  {
   "cell_type": "code",
   "execution_count": 2,
   "metadata": {
    "collapsed": true
   },
   "outputs": [],
   "source": [
    "filename=\"burrito_current.csv\"\n",
    "df = pd.read_csv(filename)\n",
    "N = df.shape[0]"
   ]
  },
  {
   "cell_type": "markdown",
   "metadata": {},
   "source": [
    "# Find the best location for each dimension"
   ]
  },
  {
   "cell_type": "code",
   "execution_count": 10,
   "metadata": {
    "collapsed": false,
    "scrolled": false
   },
   "outputs": [
    {
     "name": "stdout",
     "output_type": "stream",
     "text": [
      "Volume\n",
      "High, Karina's Taco Shop  1.07\n",
      "Low, Taco stand 0.65\n",
      "Cost\n",
      "High, La Perla Cocina 9.99\n",
      "Low, Oscar's Mexican food 4.85\n",
      "Tortilla\n",
      "High, California Burritos 5.0\n",
      "Low, Lolita's taco shop 1.5\n",
      "Temp\n",
      "High, Donato's taco shop 5.0\n",
      "Low, Tony's Fresh Mexican Food 1.0\n",
      "Meat\n",
      "High, Pollos Maria 5.0\n",
      "Low, Raul's Mexican food 1.0\n",
      "Fillings\n",
      "High, Mikes Taco Club 5.0\n",
      "Low, Raul's Mexican food 1.0\n",
      "Meat:filling\n",
      "High, Taco Stand 5.0\n",
      "Low, Raul's Mexican food 0.5\n",
      "Uniformity\n",
      "High, Oscar's Mexican food 5.0\n",
      "Low, Lolita's taco shop 1.0\n",
      "Salsa\n",
      "High, Taco stand 5.0\n",
      "Low, JV's Mexican Food 0.5\n",
      "Synergy\n",
      "High, Taco Stand 5.0\n",
      "Low, Raul's Mexican food 1.0\n",
      "Wrap\n",
      "High, Oscar's Mexican food 5.0\n",
      "Low, Cancun Mexican & Seafood 0.5\n",
      "overall\n",
      "High, California Burritos 5.0\n",
      "Low, Raul's Mexican food 1.0\n",
      "Google\n",
      "High, Lola's 7 Up Market & Deli 4.9\n",
      "Low, Nico's Taco Shop 2.9\n",
      "Yelp\n",
      "High, Taco Stand 4.5\n",
      "Low, Rigoberto's Taco Shop 2.5\n"
     ]
    }
   ],
   "source": [
    "m_best = ['Volume','Cost','Tortilla','Temp','Meat','Fillings','Meat:filling',\n",
    "               'Uniformity','Salsa','Synergy','Wrap','overall','Google','Yelp']\n",
    "\n",
    "for m in m_best:\n",
    "    print m\n",
    "    print 'High,', df.Location[df[m].idxmax()], df[m][df[m].idxmax()]\n",
    "    print 'Low,', df.Location[df[m].idxmin()], df[m][df[m].idxmin()]"
   ]
  }
 ],
 "metadata": {
  "kernelspec": {
   "display_name": "Python 2",
   "language": "python",
   "name": "python2"
  },
  "language_info": {
   "codemirror_mode": {
    "name": "ipython",
    "version": 2
   },
   "file_extension": ".py",
   "mimetype": "text/x-python",
   "name": "python",
   "nbconvert_exporter": "python",
   "pygments_lexer": "ipython2",
   "version": "2.7.11"
  }
 },
 "nbformat": 4,
 "nbformat_minor": 0
}
