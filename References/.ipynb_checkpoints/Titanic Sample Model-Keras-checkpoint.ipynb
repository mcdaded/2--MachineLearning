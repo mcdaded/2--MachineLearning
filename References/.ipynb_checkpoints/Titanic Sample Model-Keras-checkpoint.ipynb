{
 "cells": [
  {
   "cell_type": "code",
   "execution_count": 2,
   "metadata": {},
   "outputs": [],
   "source": [
    "import os\n",
    "import sys\n",
    "import boto\n",
    "\n",
    "import numpy as np\n",
    "import pandas as pd\n",
    "\n",
    "import re\n",
    "import matplotlib.pyplot as plt\n",
    "%matplotlib inline"
   ]
  },
  {
   "cell_type": "code",
   "execution_count": 4,
   "metadata": {},
   "outputs": [],
   "source": [
    "S3_BUCKET_NAME = 'ai-dev'\n",
    "\n",
    "# Using sample Kaggle.com titanic dataset for classification\n",
    "csv_file = 'sample_data/titanic_train.csv'\n",
    "s3_file = 's3://{}/{}'.format(S3_BUCKET_NAME, csv_file)\n",
    "data = pd.read_csv(s3_file)"
   ]
  },
  {
   "cell_type": "code",
   "execution_count": 5,
   "metadata": {
    "scrolled": true
   },
   "outputs": [
    {
     "data": {
      "text/plain": [
       "(891, 12)"
      ]
     },
     "execution_count": 5,
     "metadata": {},
     "output_type": "execute_result"
    }
   ],
   "source": [
    "data.shape"
   ]
  },
  {
   "cell_type": "code",
   "execution_count": 6,
   "metadata": {},
   "outputs": [
    {
     "data": {
      "text/html": [
       "<div>\n",
       "<style scoped>\n",
       "    .dataframe tbody tr th:only-of-type {\n",
       "        vertical-align: middle;\n",
       "    }\n",
       "\n",
       "    .dataframe tbody tr th {\n",
       "        vertical-align: top;\n",
       "    }\n",
       "\n",
       "    .dataframe thead th {\n",
       "        text-align: right;\n",
       "    }\n",
       "</style>\n",
       "<table border=\"1\" class=\"dataframe\">\n",
       "  <thead>\n",
       "    <tr style=\"text-align: right;\">\n",
       "      <th></th>\n",
       "      <th>PassengerId</th>\n",
       "      <th>Survived</th>\n",
       "      <th>Pclass</th>\n",
       "      <th>Name</th>\n",
       "      <th>Sex</th>\n",
       "      <th>Age</th>\n",
       "      <th>SibSp</th>\n",
       "      <th>Parch</th>\n",
       "      <th>Ticket</th>\n",
       "      <th>Fare</th>\n",
       "      <th>Cabin</th>\n",
       "      <th>Embarked</th>\n",
       "    </tr>\n",
       "  </thead>\n",
       "  <tbody>\n",
       "    <tr>\n",
       "      <th>0</th>\n",
       "      <td>1</td>\n",
       "      <td>0</td>\n",
       "      <td>3</td>\n",
       "      <td>Braund, Mr. Owen Harris</td>\n",
       "      <td>male</td>\n",
       "      <td>22.0</td>\n",
       "      <td>1</td>\n",
       "      <td>0</td>\n",
       "      <td>A/5 21171</td>\n",
       "      <td>7.2500</td>\n",
       "      <td>NaN</td>\n",
       "      <td>S</td>\n",
       "    </tr>\n",
       "    <tr>\n",
       "      <th>1</th>\n",
       "      <td>2</td>\n",
       "      <td>1</td>\n",
       "      <td>1</td>\n",
       "      <td>Cumings, Mrs. John Bradley (Florence Briggs Th...</td>\n",
       "      <td>female</td>\n",
       "      <td>38.0</td>\n",
       "      <td>1</td>\n",
       "      <td>0</td>\n",
       "      <td>PC 17599</td>\n",
       "      <td>71.2833</td>\n",
       "      <td>C85</td>\n",
       "      <td>C</td>\n",
       "    </tr>\n",
       "    <tr>\n",
       "      <th>2</th>\n",
       "      <td>3</td>\n",
       "      <td>1</td>\n",
       "      <td>3</td>\n",
       "      <td>Heikkinen, Miss. Laina</td>\n",
       "      <td>female</td>\n",
       "      <td>26.0</td>\n",
       "      <td>0</td>\n",
       "      <td>0</td>\n",
       "      <td>STON/O2. 3101282</td>\n",
       "      <td>7.9250</td>\n",
       "      <td>NaN</td>\n",
       "      <td>S</td>\n",
       "    </tr>\n",
       "    <tr>\n",
       "      <th>3</th>\n",
       "      <td>4</td>\n",
       "      <td>1</td>\n",
       "      <td>1</td>\n",
       "      <td>Futrelle, Mrs. Jacques Heath (Lily May Peel)</td>\n",
       "      <td>female</td>\n",
       "      <td>35.0</td>\n",
       "      <td>1</td>\n",
       "      <td>0</td>\n",
       "      <td>113803</td>\n",
       "      <td>53.1000</td>\n",
       "      <td>C123</td>\n",
       "      <td>S</td>\n",
       "    </tr>\n",
       "    <tr>\n",
       "      <th>4</th>\n",
       "      <td>5</td>\n",
       "      <td>0</td>\n",
       "      <td>3</td>\n",
       "      <td>Allen, Mr. William Henry</td>\n",
       "      <td>male</td>\n",
       "      <td>35.0</td>\n",
       "      <td>0</td>\n",
       "      <td>0</td>\n",
       "      <td>373450</td>\n",
       "      <td>8.0500</td>\n",
       "      <td>NaN</td>\n",
       "      <td>S</td>\n",
       "    </tr>\n",
       "  </tbody>\n",
       "</table>\n",
       "</div>"
      ],
      "text/plain": [
       "   PassengerId  Survived  Pclass  \\\n",
       "0            1         0       3   \n",
       "1            2         1       1   \n",
       "2            3         1       3   \n",
       "3            4         1       1   \n",
       "4            5         0       3   \n",
       "\n",
       "                                                Name     Sex   Age  SibSp  \\\n",
       "0                            Braund, Mr. Owen Harris    male  22.0      1   \n",
       "1  Cumings, Mrs. John Bradley (Florence Briggs Th...  female  38.0      1   \n",
       "2                             Heikkinen, Miss. Laina  female  26.0      0   \n",
       "3       Futrelle, Mrs. Jacques Heath (Lily May Peel)  female  35.0      1   \n",
       "4                           Allen, Mr. William Henry    male  35.0      0   \n",
       "\n",
       "   Parch            Ticket     Fare Cabin Embarked  \n",
       "0      0         A/5 21171   7.2500   NaN        S  \n",
       "1      0          PC 17599  71.2833   C85        C  \n",
       "2      0  STON/O2. 3101282   7.9250   NaN        S  \n",
       "3      0            113803  53.1000  C123        S  \n",
       "4      0            373450   8.0500   NaN        S  "
      ]
     },
     "execution_count": 6,
     "metadata": {},
     "output_type": "execute_result"
    }
   ],
   "source": [
    "data.head()"
   ]
  },
  {
   "cell_type": "code",
   "execution_count": 7,
   "metadata": {},
   "outputs": [
    {
     "name": "stdout",
     "output_type": "stream",
     "text": [
      "<class 'pandas.core.frame.DataFrame'>\n",
      "RangeIndex: 891 entries, 0 to 890\n",
      "Data columns (total 12 columns):\n",
      "PassengerId    891 non-null int64\n",
      "Survived       891 non-null int64\n",
      "Pclass         891 non-null int64\n",
      "Name           891 non-null object\n",
      "Sex            891 non-null object\n",
      "Age            714 non-null float64\n",
      "SibSp          891 non-null int64\n",
      "Parch          891 non-null int64\n",
      "Ticket         891 non-null object\n",
      "Fare           891 non-null float64\n",
      "Cabin          204 non-null object\n",
      "Embarked       889 non-null object\n",
      "dtypes: float64(2), int64(5), object(5)\n",
      "memory usage: 83.6+ KB\n"
     ]
    }
   ],
   "source": [
    "data.info()"
   ]
  },
  {
   "cell_type": "markdown",
   "metadata": {},
   "source": [
    "------------------------\n",
    "## Explore and Transform the data\n",
    "\n",
    "\n",
    "------------------------"
   ]
  },
  {
   "cell_type": "markdown",
   "metadata": {},
   "source": [
    "----------------\n",
    "### Cabin Class"
   ]
  },
  {
   "cell_type": "code",
   "execution_count": 8,
   "metadata": {
    "scrolled": true
   },
   "outputs": [
    {
     "name": "stdout",
     "output_type": "stream",
     "text": [
      "   Pclass  Survived\n",
      "0       1  0.629630\n",
      "1       2  0.472826\n",
      "2       3  0.242363\n"
     ]
    }
   ],
   "source": [
    "print(data[['Pclass', 'Survived']].groupby(['Pclass'], as_index=False).mean())"
   ]
  },
  {
   "cell_type": "markdown",
   "metadata": {},
   "source": [
    "### Sex"
   ]
  },
  {
   "cell_type": "code",
   "execution_count": 9,
   "metadata": {},
   "outputs": [
    {
     "name": "stdout",
     "output_type": "stream",
     "text": [
      "      Sex  Survived\n",
      "0  female  0.742038\n",
      "1    male  0.188908\n"
     ]
    }
   ],
   "source": [
    "print(data[[\"Sex\", \"Survived\"]].groupby(['Sex'], as_index=False).mean())"
   ]
  },
  {
   "cell_type": "markdown",
   "metadata": {},
   "source": [
    "### Family information - Siblings and Parents"
   ]
  },
  {
   "cell_type": "code",
   "execution_count": 10,
   "metadata": {},
   "outputs": [
    {
     "name": "stdout",
     "output_type": "stream",
     "text": [
      "   FamilySize  Survived\n",
      "0           1  0.303538\n",
      "1           2  0.552795\n",
      "2           3  0.578431\n",
      "3           4  0.724138\n",
      "4           5  0.200000\n",
      "5           6  0.136364\n",
      "6           7  0.333333\n",
      "7           8  0.000000\n",
      "8          11  0.000000\n"
     ]
    }
   ],
   "source": [
    "data['FamilySize'] = data['SibSp'] + data['Parch'] + 1\n",
    "print(data[['FamilySize', 'Survived']].groupby(['FamilySize'], as_index=False).mean())"
   ]
  },
  {
   "cell_type": "code",
   "execution_count": 11,
   "metadata": {},
   "outputs": [
    {
     "name": "stdout",
     "output_type": "stream",
     "text": [
      "   IsAlone  Survived\n",
      "0        0  0.505650\n",
      "1        1  0.303538\n"
     ]
    }
   ],
   "source": [
    "data['IsAlone'] = 0\n",
    "data.loc[data['FamilySize'] == 1, 'IsAlone'] = 1\n",
    "print(data[['IsAlone', 'Survived']].groupby(['IsAlone'], as_index=False).mean())"
   ]
  },
  {
   "cell_type": "markdown",
   "metadata": {},
   "source": [
    "### Embarked Passengers"
   ]
  },
  {
   "cell_type": "code",
   "execution_count": 12,
   "metadata": {},
   "outputs": [
    {
     "name": "stdout",
     "output_type": "stream",
     "text": [
      "  Embarked  Survived\n",
      "0        C  0.553571\n",
      "1        Q  0.389610\n",
      "2        S  0.339009\n"
     ]
    }
   ],
   "source": [
    "data['Embarked'] = data['Embarked'].fillna('S')\n",
    "print(data[['Embarked', 'Survived']].groupby(['Embarked'], as_index=False).mean())"
   ]
  },
  {
   "cell_type": "markdown",
   "metadata": {},
   "source": [
    "### Fare"
   ]
  },
  {
   "cell_type": "code",
   "execution_count": 13,
   "metadata": {},
   "outputs": [
    {
     "name": "stdout",
     "output_type": "stream",
     "text": [
      "   CategoricalFare  Survived\n",
      "0   (-0.001, 7.91]  0.197309\n",
      "1   (7.91, 14.454]  0.303571\n",
      "2   (14.454, 31.0]  0.454955\n",
      "3  (31.0, 512.329]  0.581081\n"
     ]
    }
   ],
   "source": [
    "data['Fare'] = data['Fare'].fillna(data['Fare'].median())\n",
    "data['CategoricalFare'] = pd.qcut(data['Fare'], 4)\n",
    "print(data[['CategoricalFare', 'Survived']].groupby(['CategoricalFare'], as_index=False).mean())"
   ]
  },
  {
   "cell_type": "markdown",
   "metadata": {},
   "source": [
    "### Age"
   ]
  },
  {
   "cell_type": "code",
   "execution_count": 15,
   "metadata": {},
   "outputs": [
    {
     "name": "stdout",
     "output_type": "stream",
     "text": [
      "  CategoricalAge  Survived\n",
      "0  (-0.08, 16.0]  0.537037\n",
      "1   (16.0, 32.0]  0.365256\n",
      "2   (32.0, 48.0]  0.350394\n",
      "3   (48.0, 64.0]  0.434783\n",
      "4   (64.0, 80.0]  0.090909\n"
     ]
    }
   ],
   "source": [
    "age_avg = data['Age'].mean()\n",
    "age_std = data['Age'].std()\n",
    "\n",
    "# Impute missage ages by taking random sample within 1 stdeviation from the mean\n",
    "sample_lower_bound = age_avg - age_std\n",
    "sample_upper_bound = age_avg + age_std\n",
    "def get_impute_age(age):\n",
    "    if np.isnan(age):\n",
    "        return int(np.random.randint(sample_lower_bound, sample_upper_bound))\n",
    "    return int(age)\n",
    "\n",
    "data['Age'] = data['Age'].apply(get_impute_age)\n",
    "\n",
    "data['CategoricalAge'] = pd.cut(data['Age'], 5)\n",
    "\n",
    "print(data[['CategoricalAge', 'Survived']].groupby(['CategoricalAge'], as_index=False).mean())"
   ]
  },
  {
   "cell_type": "markdown",
   "metadata": {},
   "source": [
    "### Name/title"
   ]
  },
  {
   "cell_type": "code",
   "execution_count": 16,
   "metadata": {},
   "outputs": [
    {
     "name": "stdout",
     "output_type": "stream",
     "text": [
      "Sex       female  male\n",
      "Title                 \n",
      "Capt           0     1\n",
      "Col            0     2\n",
      "Countess       1     0\n",
      "Don            0     1\n",
      "Dr             1     6\n",
      "Jonkheer       0     1\n",
      "Lady           1     0\n",
      "Major          0     2\n",
      "Master         0    40\n",
      "Miss         182     0\n",
      "Mlle           2     0\n",
      "Mme            1     0\n",
      "Mr             0   517\n",
      "Mrs          125     0\n",
      "Ms             1     0\n",
      "Rev            0     6\n",
      "Sir            0     1\n"
     ]
    }
   ],
   "source": [
    "def get_title(name):\n",
    "    title_search = re.search(' ([A-Za-z]+)\\.', name)\n",
    "    # If the title exists, extract and return it.\n",
    "    if title_search:\n",
    "        return title_search.group(1)\n",
    "    return \"\"\n",
    "\n",
    "\n",
    "data['Title'] = data['Name'].apply(get_title)\n",
    "\n",
    "print(pd.crosstab(data['Title'], data['Sex']))"
   ]
  },
  {
   "cell_type": "code",
   "execution_count": 17,
   "metadata": {},
   "outputs": [
    {
     "name": "stdout",
     "output_type": "stream",
     "text": [
      "    Title  Survived\n",
      "0  Master  0.575000\n",
      "1    Miss  0.702703\n",
      "2      Mr  0.156673\n",
      "3     Mrs  0.793651\n",
      "4    Rare  0.347826\n"
     ]
    }
   ],
   "source": [
    "data['Title'] = data['Title'].replace(['Lady', 'Countess','Capt', 'Col', \n",
    "                                       'Don', 'Dr', 'Major', 'Rev', 'Sir', 'Jonkheer', 'Dona'], 'Rare')\n",
    "\n",
    "data['Title'] = data['Title'].replace('Mlle', 'Miss')\n",
    "data['Title'] = data['Title'].replace('Ms', 'Miss')\n",
    "data['Title'] = data['Title'].replace('Mme', 'Mrs')\n",
    "\n",
    "print(data[['Title', 'Survived']].groupby(['Title'], as_index=False).mean())"
   ]
  },
  {
   "cell_type": "markdown",
   "metadata": {},
   "source": [
    "## Map the data to normalized features"
   ]
  },
  {
   "cell_type": "code",
   "execution_count": 18,
   "metadata": {},
   "outputs": [
    {
     "name": "stdout",
     "output_type": "stream",
     "text": [
      "   Survived  Pclass  Sex  Age  Fare  Embarked  IsAlone  Title\n",
      "0         0       3    1    1     0         0        0      1\n",
      "1         1       1    0    2     3         1        0      3\n",
      "2         1       3    0    1     1         0        1      2\n",
      "3         1       1    0    2     3         0        0      3\n",
      "4         0       3    1    2     1         0        1      1\n",
      "5         0       3    1    1     1         2        1      1\n",
      "6         0       1    1    3     3         0        1      1\n",
      "7         0       3    1    0     2         0        0      4\n",
      "8         1       3    0    1     1         0        0      3\n",
      "9         1       2    0    0     2         1        0      3\n"
     ]
    }
   ],
   "source": [
    "# Mapping Sex\n",
    "data['Sex'] = data['Sex'].map( {'female': 0, 'male': 1} ).astype(int)\n",
    "\n",
    "# Mapping titles\n",
    "title_mapping = {\"Mr\": 1, \"Miss\": 2, \"Mrs\": 3, \"Master\": 4, \"Rare\": 5}\n",
    "data['Title'] = data['Title'].map(title_mapping)\n",
    "data['Title'] = data['Title'].fillna(0)\n",
    "\n",
    "# Mapping Embarked\n",
    "data['Embarked'] = data['Embarked'].map({'S': 0, 'C': 1, 'Q': 2}).astype(int)\n",
    "\n",
    "# Mapping Fare\n",
    "data.loc[data['Fare'] <= 7.91, 'Fare'] = 0\n",
    "data.loc[(data['Fare'] > 7.91) & (data['Fare'] <= 14.454), 'Fare'] = 1\n",
    "data.loc[(data['Fare'] > 14.454) & (data['Fare'] <= 31), 'Fare']   = 2\n",
    "data.loc[data['Fare'] > 31, 'Fare'] = 3\n",
    "data['Fare'] = data['Fare'].astype(int)\n",
    "\n",
    "# Mapping Age\n",
    "data.loc[data['Age'] <= 16, 'Age'] = 0\n",
    "data.loc[(data['Age'] > 16) & (data['Age'] <= 32), 'Age'] = 1\n",
    "data.loc[(data['Age'] > 32) & (data['Age'] <= 48), 'Age'] = 2\n",
    "data.loc[(data['Age'] > 48) & (data['Age'] <= 64), 'Age'] = 3\n",
    "data.loc[data['Age'] > 64, 'Age'] = 4\n",
    "\n",
    "# Feature Selection\n",
    "drop_elements = ['PassengerId', 'Name', 'Ticket', 'Cabin', 'SibSp', 'Parch', 'FamilySize']\n",
    "data = data.drop(drop_elements, axis=1)\n",
    "data = data.drop(['CategoricalAge', 'CategoricalFare'], axis=1)\n",
    "\n",
    "print(data.head(10))"
   ]
  },
  {
   "cell_type": "markdown",
   "metadata": {},
   "source": [
    "## Build Models"
   ]
  },
  {
   "cell_type": "code",
   "execution_count": 33,
   "metadata": {},
   "outputs": [],
   "source": [
    "from keras.models import Sequential\n",
    "from keras.layers import Dense, Dropout\n",
    "\n",
    "# fix random seed for reproducibility\n",
    "np.random.seed(7)"
   ]
  },
  {
   "cell_type": "code",
   "execution_count": 19,
   "metadata": {},
   "outputs": [],
   "source": [
    "# split into input (X) and output (Y) variables\n",
    "X = data.values[0::, 1::]\n",
    "Y = data.values[0::, 0]"
   ]
  },
  {
   "cell_type": "code",
   "execution_count": 25,
   "metadata": {
    "scrolled": true
   },
   "outputs": [
    {
     "data": {
      "text/plain": [
       "(891, 7)"
      ]
     },
     "execution_count": 25,
     "metadata": {},
     "output_type": "execute_result"
    }
   ],
   "source": [
    "X.shape"
   ]
  },
  {
   "cell_type": "code",
   "execution_count": 41,
   "metadata": {},
   "outputs": [],
   "source": [
    "# create model\n",
    "model = Sequential()\n",
    "model.add(Dense(12, input_dim=7, activation='relu'))\n",
    "model.add(Dense(8, activation='relu'))\n",
    "model.add(Dense(1, activation='sigmoid'))"
   ]
  },
  {
   "cell_type": "code",
   "execution_count": null,
   "metadata": {},
   "outputs": [],
   "source": [
    "# # create model\n",
    "# model = Sequential()\n",
    "# model.add(Dense(21, input_dim=7, activation='relu'))\n",
    "# model.add(Dense(21, activation='relu'))\n",
    "# model.add(Dropout(0.3))\n",
    "# model.add(Dense(21, activation='relu'))\n",
    "# model.add(Dropout(0.3))\n",
    "# model.add(Dense(1, activation='sigmoid'))"
   ]
  },
  {
   "cell_type": "code",
   "execution_count": 42,
   "metadata": {},
   "outputs": [],
   "source": [
    "model.compile(loss='binary_crossentropy', optimizer='adam', metrics=['accuracy'])"
   ]
  },
  {
   "cell_type": "code",
   "execution_count": 43,
   "metadata": {},
   "outputs": [
    {
     "name": "stdout",
     "output_type": "stream",
     "text": [
      "Epoch 1/50\n",
      "891/891 [==============================] - 1s 995us/step - loss: 0.6198 - acc: 0.6846\n",
      "Epoch 2/50\n",
      "891/891 [==============================] - 0s 191us/step - loss: 0.5633 - acc: 0.7273\n",
      "Epoch 3/50\n",
      "891/891 [==============================] - 0s 191us/step - loss: 0.5296 - acc: 0.7508\n",
      "Epoch 4/50\n",
      "891/891 [==============================] - 0s 186us/step - loss: 0.5102 - acc: 0.7531\n",
      "Epoch 5/50\n",
      "891/891 [==============================] - 0s 193us/step - loss: 0.4946 - acc: 0.7587\n",
      "Epoch 6/50\n",
      "891/891 [==============================] - 0s 187us/step - loss: 0.4852 - acc: 0.7845\n",
      "Epoch 7/50\n",
      "891/891 [==============================] - 0s 187us/step - loss: 0.4745 - acc: 0.7935\n",
      "Epoch 8/50\n",
      "891/891 [==============================] - 0s 185us/step - loss: 0.4676 - acc: 0.7946\n",
      "Epoch 9/50\n",
      "891/891 [==============================] - 0s 185us/step - loss: 0.4600 - acc: 0.7957\n",
      "Epoch 10/50\n",
      "891/891 [==============================] - 0s 191us/step - loss: 0.4563 - acc: 0.7980\n",
      "Epoch 11/50\n",
      "891/891 [==============================] - 0s 194us/step - loss: 0.4500 - acc: 0.8002\n",
      "Epoch 12/50\n",
      "891/891 [==============================] - 0s 188us/step - loss: 0.4496 - acc: 0.8002\n",
      "Epoch 13/50\n",
      "891/891 [==============================] - 0s 189us/step - loss: 0.4460 - acc: 0.8013\n",
      "Epoch 14/50\n",
      "891/891 [==============================] - 0s 183us/step - loss: 0.4437 - acc: 0.8002\n",
      "Epoch 15/50\n",
      "891/891 [==============================] - 0s 187us/step - loss: 0.4419 - acc: 0.8058\n",
      "Epoch 16/50\n",
      "891/891 [==============================] - 0s 184us/step - loss: 0.4401 - acc: 0.7946\n",
      "Epoch 17/50\n",
      "891/891 [==============================] - 0s 186us/step - loss: 0.4378 - acc: 0.8036\n",
      "Epoch 18/50\n",
      "891/891 [==============================] - 0s 185us/step - loss: 0.4371 - acc: 0.8070\n",
      "Epoch 19/50\n",
      "891/891 [==============================] - 0s 192us/step - loss: 0.4359 - acc: 0.8092\n",
      "Epoch 20/50\n",
      "891/891 [==============================] - 0s 191us/step - loss: 0.4349 - acc: 0.8058\n",
      "Epoch 21/50\n",
      "891/891 [==============================] - 0s 185us/step - loss: 0.4339 - acc: 0.8025\n",
      "Epoch 22/50\n",
      "891/891 [==============================] - 0s 185us/step - loss: 0.4317 - acc: 0.8036\n",
      "Epoch 23/50\n",
      "891/891 [==============================] - 0s 189us/step - loss: 0.4324 - acc: 0.8137\n",
      "Epoch 24/50\n",
      "891/891 [==============================] - 0s 184us/step - loss: 0.4300 - acc: 0.8013\n",
      "Epoch 25/50\n",
      "891/891 [==============================] - 0s 185us/step - loss: 0.4301 - acc: 0.8081\n",
      "Epoch 26/50\n",
      "891/891 [==============================] - 0s 186us/step - loss: 0.4302 - acc: 0.8058\n",
      "Epoch 27/50\n",
      "891/891 [==============================] - 0s 184us/step - loss: 0.4287 - acc: 0.8159\n",
      "Epoch 28/50\n",
      "891/891 [==============================] - 0s 185us/step - loss: 0.4287 - acc: 0.8182\n",
      "Epoch 29/50\n",
      "891/891 [==============================] - 0s 183us/step - loss: 0.4286 - acc: 0.8126\n",
      "Epoch 30/50\n",
      "891/891 [==============================] - 0s 184us/step - loss: 0.4274 - acc: 0.8148\n",
      "Epoch 31/50\n",
      "891/891 [==============================] - 0s 182us/step - loss: 0.4282 - acc: 0.8081\n",
      "Epoch 32/50\n",
      "891/891 [==============================] - 0s 185us/step - loss: 0.4274 - acc: 0.8159\n",
      "Epoch 33/50\n",
      "891/891 [==============================] - 0s 185us/step - loss: 0.4246 - acc: 0.8137\n",
      "Epoch 34/50\n",
      "891/891 [==============================] - 0s 186us/step - loss: 0.4255 - acc: 0.8148\n",
      "Epoch 35/50\n",
      "891/891 [==============================] - 0s 188us/step - loss: 0.4234 - acc: 0.8182\n",
      "Epoch 36/50\n",
      "891/891 [==============================] - 0s 186us/step - loss: 0.4251 - acc: 0.8137\n",
      "Epoch 37/50\n",
      "891/891 [==============================] - 0s 185us/step - loss: 0.4221 - acc: 0.8092\n",
      "Epoch 38/50\n",
      "891/891 [==============================] - 0s 188us/step - loss: 0.4213 - acc: 0.8148\n",
      "Epoch 39/50\n",
      "891/891 [==============================] - 0s 185us/step - loss: 0.4212 - acc: 0.8260\n",
      "Epoch 40/50\n",
      "891/891 [==============================] - 0s 185us/step - loss: 0.4202 - acc: 0.8193\n",
      "Epoch 41/50\n",
      "891/891 [==============================] - 0s 184us/step - loss: 0.4200 - acc: 0.8148\n",
      "Epoch 42/50\n",
      "891/891 [==============================] - 0s 185us/step - loss: 0.4211 - acc: 0.8204\n",
      "Epoch 43/50\n",
      "891/891 [==============================] - 0s 187us/step - loss: 0.4205 - acc: 0.8227\n",
      "Epoch 44/50\n",
      "891/891 [==============================] - 0s 187us/step - loss: 0.4197 - acc: 0.8137\n",
      "Epoch 45/50\n",
      "891/891 [==============================] - 0s 186us/step - loss: 0.4187 - acc: 0.8171\n",
      "Epoch 46/50\n",
      "891/891 [==============================] - 0s 187us/step - loss: 0.4196 - acc: 0.8171\n",
      "Epoch 47/50\n",
      "891/891 [==============================] - 0s 185us/step - loss: 0.4218 - acc: 0.8114\n",
      "Epoch 48/50\n",
      "891/891 [==============================] - 0s 183us/step - loss: 0.4183 - acc: 0.8193\n",
      "Epoch 49/50\n",
      "891/891 [==============================] - 0s 186us/step - loss: 0.4170 - acc: 0.8227\n",
      "Epoch 50/50\n",
      "891/891 [==============================] - 0s 188us/step - loss: 0.4173 - acc: 0.8193\n"
     ]
    }
   ],
   "source": [
    "# Fit the model\n",
    "history = model.fit(X, Y, epochs=50, batch_size=10)"
   ]
  },
  {
   "cell_type": "code",
   "execution_count": 44,
   "metadata": {},
   "outputs": [
    {
     "name": "stdout",
     "output_type": "stream",
     "text": [
      "891/891 [==============================] - 0s 130us/step\n",
      "\n",
      "acc: 81.93%\n"
     ]
    }
   ],
   "source": [
    "# evaluate the model\n",
    "scores = model.evaluate(X, Y)\n",
    "print(\"\\n%s: %.2f%%\" % (model.metrics_names[1], scores[1]*100))"
   ]
  },
  {
   "cell_type": "code",
   "execution_count": 45,
   "metadata": {},
   "outputs": [
    {
     "name": "stdout",
     "output_type": "stream",
     "text": [
      "[0.07805262, 0.97052526, 0.48379904, 0.96825165, 0.05009806, 0.15101163, 0.26474565, 0.26858476, 0.4970544, 0.9594095]\n"
     ]
    }
   ],
   "source": [
    "# calculate predictions\n",
    "predictions = model.predict(X)\n",
    "# round predictions\n",
    "rounded = [x[0] for x in predictions]\n",
    "print(rounded[:10])"
   ]
  },
  {
   "cell_type": "code",
   "execution_count": 46,
   "metadata": {},
   "outputs": [
    {
     "data": {
      "text/plain": [
       "(array([307., 116.,  74.,  73.,  65.,  48.,  10.,  33.,  65., 100.]),\n",
       " array([0.02285942, 0.11852974, 0.21420006, 0.3098704 , 0.4055407 ,\n",
       "        0.50121105, 0.59688133, 0.6925517 , 0.788222  , 0.8838923 ,\n",
       "        0.97956264], dtype=float32),\n",
       " <a list of 10 Patch objects>)"
      ]
     },
     "execution_count": 46,
     "metadata": {},
     "output_type": "execute_result"
    },
    {
     "data": {
      "image/png": "[encoded data removed]",
      "text/plain": [
       "<Figure size 432x288 with 1 Axes>"
      ]
     },
     "metadata": {},
     "output_type": "display_data"
    }
   ],
   "source": [
    "plt.hist(rounded)"
   ]
  },
  {
   "cell_type": "code",
   "execution_count": null,
   "metadata": {},
   "outputs": [],
   "source": []
  },
  {
   "cell_type": "code",
   "execution_count": null,
   "metadata": {},
   "outputs": [],
   "source": []
  },
  {
   "cell_type": "code",
   "execution_count": 50,
   "metadata": {},
   "outputs": [],
   "source": [
    "import matplotlib.pyplot as plt\n",
    "import seaborn as sns\n",
    "\n",
    "from sklearn.model_selection import StratifiedShuffleSplit\n",
    "from sklearn.metrics import accuracy_score, log_loss\n",
    "\n",
    "from sklearn.neighbors import KNeighborsClassifier\n",
    "from sklearn.ensemble import RandomForestClassifier, GradientBoostingClassifier\n",
    "from sklearn.naive_bayes import GaussianNB\n",
    "from sklearn.discriminant_analysis import LinearDiscriminantAnalysis, QuadraticDiscriminantAnalysis\n",
    "from sklearn.linear_model import LogisticRegression"
   ]
  },
  {
   "cell_type": "code",
   "execution_count": 56,
   "metadata": {},
   "outputs": [],
   "source": [
    "# Will sample a few different classifiers\n",
    "classifiers = [\n",
    "    KNeighborsClassifier(3),\n",
    "    RandomForestClassifier(),\n",
    "    GradientBoostingClassifier(),\n",
    "    GaussianNB(),\n",
    "    LinearDiscriminantAnalysis(),\n",
    "    QuadraticDiscriminantAnalysis(),\n",
    "    LogisticRegression()\n",
    "]\n",
    "\n",
    "log_cols = [\"Classifier\", \"Accuracy\"]\n",
    "log = pd.DataFrame(columns=log_cols)\n",
    "\n",
    "sss = StratifiedShuffleSplit(n_splits=10, test_size=0.1, random_state=0)"
   ]
  },
  {
   "cell_type": "code",
   "execution_count": 55,
   "metadata": {},
   "outputs": [],
   "source": [
    "X = data.values[0::, 1::]\n",
    "y = data.values[0::, 0]\n",
    "\n",
    "acc_dict = {}"
   ]
  },
  {
   "cell_type": "code",
   "execution_count": 57,
   "metadata": {},
   "outputs": [],
   "source": [
    "for train_index, test_index in sss.split(X, y):\n",
    "    X_train, X_test = X[train_index], X[test_index]\n",
    "    y_train, y_test = y[train_index], y[test_index]\n",
    "    \n",
    "    for clf in classifiers:\n",
    "        name = clf.__class__.__name__\n",
    "        clf.fit(X_train, y_train)\n",
    "        train_predictions = clf.predict(X_test)\n",
    "        acc = accuracy_score(y_test, train_predictions)\n",
    "        if name in acc_dict:\n",
    "            acc_dict[name] += acc\n",
    "        else:\n",
    "            acc_dict[name] = acc\n"
   ]
  },
  {
   "cell_type": "code",
   "execution_count": 58,
   "metadata": {},
   "outputs": [],
   "source": [
    "for clf in acc_dict:\n",
    "    acc_dict[clf] = acc_dict[clf] / 10.0\n",
    "    log_entry = pd.DataFrame([[clf, acc_dict[clf]]], columns=log_cols)\n",
    "    log = log.append(log_entry)"
   ]
  },
  {
   "cell_type": "code",
   "execution_count": 59,
   "metadata": {},
   "outputs": [
    {
     "data": {
      "text/plain": [
       "<matplotlib.axes._subplots.AxesSubplot at 0x7f419fc2bdd8>"
      ]
     },
     "execution_count": 59,
     "metadata": {},
     "output_type": "execute_result"
    },
    {
     "data": {
      "image/png": "[encoded data removed]",
      "text/plain": [
       "<Figure size 432x288 with 1 Axes>"
      ]
     },
     "metadata": {},
     "output_type": "display_data"
    }
   ],
   "source": [
    "plt.xlabel('Accuracy')\n",
    "plt.title('Classifier Accuracy')\n",
    "\n",
    "sns.set_color_codes(\"muted\")\n",
    "sns.barplot(x='Accuracy', y='Classifier', data=log, color=\"b\")"
   ]
  },
  {
   "cell_type": "code",
   "execution_count": 60,
   "metadata": {},
   "outputs": [
    {
     "data": {
      "text/plain": [
       "GradientBoostingClassifier(criterion='friedman_mse', init=None,\n",
       "              learning_rate=0.1, loss='deviance', max_depth=3,\n",
       "              max_features=None, max_leaf_nodes=None,\n",
       "              min_impurity_decrease=0.0, min_impurity_split=None,\n",
       "              min_samples_leaf=1, min_samples_split=2,\n",
       "              min_weight_fraction_leaf=0.0, n_estimators=100,\n",
       "              presort='auto', random_state=None, subsample=1.0, verbose=0,\n",
       "              warm_start=False)"
      ]
     },
     "execution_count": 60,
     "metadata": {},
     "output_type": "execute_result"
    }
   ],
   "source": [
    "model = GradientBoostingClassifier()\n",
    "model.fit(X, y)"
   ]
  },
  {
   "cell_type": "markdown",
   "metadata": {},
   "source": [
    "### Use Simple Sample Test Data"
   ]
  },
  {
   "cell_type": "code",
   "execution_count": 62,
   "metadata": {},
   "outputs": [
    {
     "name": "stdout",
     "output_type": "stream",
     "text": [
      "[3. 1. 1. 0. 0. 0. 1.] 0.0\n"
     ]
    }
   ],
   "source": [
    "print(X[0], y[0])"
   ]
  },
  {
   "cell_type": "code",
   "execution_count": 65,
   "metadata": {},
   "outputs": [
    {
     "data": {
      "text/plain": [
       "array([[0.90255546, 0.09744454]])"
      ]
     },
     "execution_count": 65,
     "metadata": {},
     "output_type": "execute_result"
    }
   ],
   "source": [
    "model.predict_proba([X[0]])"
   ]
  },
  {
   "cell_type": "markdown",
   "metadata": {},
   "source": [
    "### Save the Model for Future Use"
   ]
  },
  {
   "cell_type": "markdown",
   "metadata": {},
   "source": [
    "Couldnt exactly figure out if there is a better way to do this or not?"
   ]
  },
  {
   "cell_type": "code",
   "execution_count": null,
   "metadata": {},
   "outputs": [],
   "source": [
    "import boto3\n",
    "from io import BytesIO\n",
    "import pickle\n",
    "from sklearn.externals import joblib"
   ]
  },
  {
   "cell_type": "code",
   "execution_count": null,
   "metadata": {},
   "outputs": [],
   "source": [
    "model_path = 'sample_data/titanic_model.pkl'\n",
    "\n",
    "pickle_buffer = BytesIO()\n",
    "s3_resource = boto3.resource('s3')\n",
    "\n",
    "joblib.dump(model, pickle_buffer)\n",
    "# pickle.dump(model, pickle_buffer)  ## can use pickle too \n",
    "s3_resource.Object(S3_BUCKET_NAME, model_path).put(Body=pickle_buffer.getvalue())"
   ]
  },
  {
   "cell_type": "markdown",
   "metadata": {},
   "source": [
    "### Sample for hosting the model "
   ]
  },
  {
   "cell_type": "code",
   "execution_count": null,
   "metadata": {},
   "outputs": [],
   "source": [
    "# https://github.com/awslabs/amazon-sagemaker-examples/blob/master/advanced_functionality/scikit_bring_your_own/scikit_bring_your_own.ipynb\n",
    "# https://medium.com/@patrickmichelberger/how-to-deploy-a-serverless-machine-learning-microservice-with-aws-lambda-aws-api-gateway-and-d5b8cbead846"
   ]
  },
  {
   "cell_type": "code",
   "execution_count": null,
   "metadata": {},
   "outputs": [],
   "source": []
  }
 ],
 "metadata": {
  "kernelspec": {
   "display_name": "Python 3",
   "language": "python",
   "name": "python3"
  },
  "language_info": {
   "codemirror_mode": {
    "name": "ipython",
    "version": 3
   },
   "file_extension": ".py",
   "mimetype": "text/x-python",
   "name": "python",
   "nbconvert_exporter": "python",
   "pygments_lexer": "ipython3",
   "version": "3.6.3"
  }
 },
 "nbformat": 4,
 "nbformat_minor": 2
}
