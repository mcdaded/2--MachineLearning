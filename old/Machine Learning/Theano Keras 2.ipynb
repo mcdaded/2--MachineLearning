{
 "cells": [
  {
   "cell_type": "code",
   "execution_count": 119,
   "metadata": {
    "collapsed": true
   },
   "outputs": [],
   "source": [
    "import pandas as pd\n",
    "import numpy as np\n",
    "import sklearn\n",
    "import scipy\n",
    "import statsmodels\n",
    "import matplotlib.pyplot as plt\n",
    "%matplotlib inline\n",
    "import theano\n",
    "import keras"
   ]
  },
  {
   "cell_type": "code",
   "execution_count": 120,
   "metadata": {
    "collapsed": true
   },
   "outputs": [],
   "source": [
    "from keras.models import Sequential\n",
    "from keras.layers.core import Dense, Activation"
   ]
  },
  {
   "cell_type": "code",
   "execution_count": 121,
   "metadata": {
    "collapsed": true
   },
   "outputs": [],
   "source": [
    "from sklearn import datasets\n",
    "from sklearn.cross_validation import train_test_split\n",
    "from sklearn.preprocessing import StandardScaler\n",
    "from sklearn.metrics import classification_report"
   ]
  },
  {
   "cell_type": "code",
   "execution_count": 126,
   "metadata": {
    "collapsed": false
   },
   "outputs": [],
   "source": [
    "iris = datasets.load_iris()\n",
    "X = iris.data\n",
    "X = StandardScaler().fit_transform(X)\n",
    "y = iris.target\n",
    "#y = StandardScaler().fit_transform(y)"
   ]
  },
  {
   "cell_type": "code",
   "execution_count": 127,
   "metadata": {
    "collapsed": false
   },
   "outputs": [],
   "source": [
    "X_train, X_test, y_train, y_test = train_test_split(X, y, test_size=0.33, random_state=42)"
   ]
  },
  {
   "cell_type": "code",
   "execution_count": null,
   "metadata": {
    "collapsed": true
   },
   "outputs": [],
   "source": [
    "# category needs to be a dummy array of category values "
   ]
  },
  {
   "cell_type": "code",
   "execution_count": 128,
   "metadata": {
    "collapsed": false
   },
   "outputs": [],
   "source": [
    "y_transformed = []\n",
    "for val in y:\n",
    "    yt = [0, 0, 0]\n",
    "    yt[val] = 1\n",
    "    y_transformed = y_transformed + [yt]"
   ]
  },
  {
   "cell_type": "code",
   "execution_count": 135,
   "metadata": {
    "collapsed": true
   },
   "outputs": [],
   "source": [
    "y_transformed = StandardScaler().fit_transform(y_transformed)"
   ]
  },
  {
   "cell_type": "code",
   "execution_count": 136,
   "metadata": {
    "collapsed": true
   },
   "outputs": [],
   "source": [
    "data_input_dim = X.shape[1]\n",
    "nb_classes = 3\n",
    "\n",
    "model = Sequential()\n",
    "model.add(Dense(64, input_dim=data_input_dim, init='uniform', activation='tanh'))\n",
    "model.add(Dropout(0.5))\n",
    "model.add(Dense(64, init='uniform', activation='tanh'))\n",
    "model.add(Dropout(0.5))\n",
    "model.add(Dense(nb_classes, init='uniform', activation='softmax'))\n",
    "\n",
    "sgd = SGD(lr=0.1, decay=1e-6, momentum=0.9, nesterov=True)\n",
    "model.compile(loss='mean_squared_error', optimizer=sgd)"
   ]
  },
  {
   "cell_type": "code",
   "execution_count": 137,
   "metadata": {
    "collapsed": false
   },
   "outputs": [
    {
     "name": "stdout",
     "output_type": "stream",
     "text": [
      "Train on 70 samples, validate on 30 samples\n",
      "Epoch 1/10\n",
      "0s - loss: 1.0856 - acc: 0.6429 - val_loss: 1.1549 - val_acc: 0.0000\n",
      "Epoch 2/10\n",
      "0s - loss: 0.9738 - acc: 0.7143 - val_loss: 1.3205 - val_acc: 0.0000\n",
      "Epoch 3/10\n",
      "0s - loss: 0.8689 - acc: 0.7143 - val_loss: 1.4937 - val_acc: 0.0000\n",
      "Epoch 4/10\n",
      "0s - loss: 0.8272 - acc: 0.7143 - val_loss: 1.6000 - val_acc: 0.0000\n",
      "Epoch 5/10\n",
      "0s - loss: 0.8077 - acc: 0.7143 - val_loss: 1.6525 - val_acc: 0.0000\n",
      "Epoch 6/10\n",
      "0s - loss: 0.8028 - acc: 0.7143 - val_loss: 1.6835 - val_acc: 0.0000\n",
      "Epoch 7/10\n",
      "0s - loss: 0.8003 - acc: 0.7143 - val_loss: 1.7011 - val_acc: 0.0000\n",
      "Epoch 8/10\n",
      "0s - loss: 0.7990 - acc: 0.7143 - val_loss: 1.7113 - val_acc: 0.0000\n",
      "Epoch 9/10\n",
      "0s - loss: 0.7983 - acc: 0.7143 - val_loss: 1.7177 - val_acc: 0.0000\n",
      "Epoch 10/10\n",
      "0s - loss: 0.7978 - acc: 0.7143 - val_loss: 1.7210 - val_acc: 0.0000\n"
     ]
    }
   ],
   "source": [
    "model.fit(X_train, y_transformed, nb_epoch=10, batch_size=16, validation_split=0.3, show_accuracy=True, verbose=2)\n",
    "preds = model.predict_classes(X_test, verbose=0)"
   ]
  },
  {
   "cell_type": "code",
   "execution_count": 138,
   "metadata": {
    "collapsed": false
   },
   "outputs": [
    {
     "data": {
      "text/plain": [
       "array([0, 0, 0, 0, 0, 0, 0, 0, 0, 0, 0, 0, 0, 0, 0, 0, 0, 0, 0, 0, 0, 0, 0,\n",
       "       0, 0, 0, 0, 0, 0, 0, 0, 0, 0, 0, 0, 0, 0, 0, 0, 0, 0, 0, 0, 0, 0, 0,\n",
       "       0, 0, 0, 0], dtype=int64)"
      ]
     },
     "execution_count": 138,
     "metadata": {},
     "output_type": "execute_result"
    }
   ],
   "source": [
    "preds"
   ]
  },
  {
   "cell_type": "code",
   "execution_count": 115,
   "metadata": {
    "collapsed": true
   },
   "outputs": [],
   "source": [
    "# Make 100 phony data points in NumPy.\n",
    "x_data = np.float32(np.random.rand(2, 100)) # Random input\n",
    "y_data = np.dot([0.100, 0.200], x_data) + 0.300"
   ]
  },
  {
   "cell_type": "code",
   "execution_count": 116,
   "metadata": {
    "collapsed": true
   },
   "outputs": [],
   "source": [
    "data_input_dim = x_data.shape[1]\n",
    "nb_classes = 1\n",
    "\n",
    "model = Sequential()\n",
    "model.add(Dense(64, input_dim=data_input_dim, init='uniform', activation='tanh'))\n",
    "model.add(Dropout(0.5))\n",
    "model.add(Dense(64, init='uniform', activation='tanh'))\n",
    "model.add(Dropout(0.5))\n",
    "model.add(Dense(nb_classes, init='uniform', activation='softmax'))\n",
    "\n",
    "sgd = SGD(lr=0.1, decay=1e-6, momentum=0.9, nesterov=True)\n",
    "model.compile(loss='mean_squared_error', optimizer=sgd)"
   ]
  },
  {
   "cell_type": "code",
   "execution_count": 118,
   "metadata": {
    "collapsed": false
   },
   "outputs": [
    {
     "name": "stdout",
     "output_type": "stream",
     "text": [
      "Train on 1 samples, validate on 1 samples\n",
      "Epoch 1/10\n",
      "0s - loss: 0.1800 - acc: 1.0000 - val_loss: 0.3278 - val_acc: 1.0000\n",
      "Epoch 2/10\n",
      "0s - loss: 0.1800 - acc: 1.0000 - val_loss: 0.3278 - val_acc: 1.0000\n",
      "Epoch 3/10\n",
      "0s - loss: 0.1800 - acc: 1.0000 - val_loss: 0.3278 - val_acc: 1.0000\n",
      "Epoch 4/10\n",
      "0s - loss: 0.1800 - acc: 1.0000 - val_loss: 0.3278 - val_acc: 1.0000\n",
      "Epoch 5/10\n",
      "0s - loss: 0.1800 - acc: 1.0000 - val_loss: 0.3278 - val_acc: 1.0000\n",
      "Epoch 6/10\n",
      "0s - loss: 0.1800 - acc: 1.0000 - val_loss: 0.3278 - val_acc: 1.0000\n",
      "Epoch 7/10\n",
      "0s - loss: 0.1800 - acc: 1.0000 - val_loss: 0.3278 - val_acc: 1.0000\n",
      "Epoch 8/10\n",
      "0s - loss: 0.1800 - acc: 1.0000 - val_loss: 0.3278 - val_acc: 1.0000\n",
      "Epoch 9/10\n",
      "0s - loss: 0.1800 - acc: 1.0000 - val_loss: 0.3278 - val_acc: 1.0000\n",
      "Epoch 10/10\n",
      "0s - loss: 0.1800 - acc: 1.0000 - val_loss: 0.3278 - val_acc: 1.0000\n"
     ]
    },
    {
     "data": {
      "text/plain": [
       "<keras.callbacks.History at 0x209f4128>"
      ]
     },
     "execution_count": 118,
     "metadata": {},
     "output_type": "execute_result"
    }
   ],
   "source": [
    "model.fit(x_data, y_data, nb_epoch=10, batch_size=16, validation_split=0.3, show_accuracy=True, verbose=2)"
   ]
  },
  {
   "cell_type": "code",
   "execution_count": null,
   "metadata": {
    "collapsed": true
   },
   "outputs": [],
   "source": []
  },
  {
   "cell_type": "code",
   "execution_count": null,
   "metadata": {
    "collapsed": true
   },
   "outputs": [],
   "source": []
  }
 ],
 "metadata": {
  "kernelspec": {
   "display_name": "Python 2",
   "language": "python",
   "name": "python2"
  },
  "language_info": {
   "codemirror_mode": {
    "name": "ipython",
    "version": 2
   },
   "file_extension": ".py",
   "mimetype": "text/x-python",
   "name": "python",
   "nbconvert_exporter": "python",
   "pygments_lexer": "ipython2",
   "version": "2.7.10"
  }
 },
 "nbformat": 4,
 "nbformat_minor": 0
}
