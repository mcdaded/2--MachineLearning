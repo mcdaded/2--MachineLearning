{
 "cells": [
  {
   "cell_type": "code",
   "execution_count": null,
   "metadata": {
    "collapsed": true
   },
   "outputs": [],
   "source": []
  },
  {
   "cell_type": "code",
   "execution_count": 2,
   "metadata": {
    "collapsed": true
   },
   "outputs": [],
   "source": [
    "# run import from reference script (pandas, numpy, ect)\n",
    "import sys\n",
    "sys.path.append('C:\\\\Users\\\\dmcdade\\\\Documents\\\\Python Scripts\\\\references')\n",
    "from base_import import *\n",
    "%matplotlib inline\n",
    "\n",
    "from pandasql import *\n",
    "def pysqldf(q):\n",
    "    return sqldf(q, globals())"
   ]
  },
  {
   "cell_type": "code",
   "execution_count": 3,
   "metadata": {
    "collapsed": true
   },
   "outputs": [],
   "source": [
    "import sklearn\n",
    "# some of the most useful processes\n",
    "from sklearn.pipeline import Pipeline\n",
    "from sklearn.cross_validation import train_test_split\n",
    "from sklearn.grid_search import GridSearchCV\n",
    "from sklearn.metrics import classification_report, confusion_matrix\n",
    "from sklearn.cluster import KMeans\n",
    "from sklearn.preprocessing import StandardScaler, MinMaxScaler, Normalizer, Imputer\n",
    "from patsy import dmatrices"
   ]
  },
  {
   "cell_type": "code",
   "execution_count": null,
   "metadata": {
    "collapsed": true
   },
   "outputs": [],
   "source": [
    "#################################################################\n",
    "# X_train, X_test, y_train, y_test = train_test_split(X, y)\n",
    "# imputer = Imputer(strategy='median', missing_values=-1)\n",
    "# scalar = StandardScaler()\n",
    "# pca = PCA()\n",
    "# classifier = RandomForestClassifier(n_estimators=100)\n",
    "# params = {\n",
    "#    'pca__n_components': np.arange(2,features.shape[1]+1).tolist() ,\n",
    "#    'clf__criterion':['gini','entropy'],\n",
    "#    'clf__max_features': [0.75, 0.8, 0.9],\n",
    "#    'clf__max_depth': [3.75, 3.9, 4, 4.1],\n",
    "#    'clf__min_samples_split': [2, 10, 50],\n",
    "#}\n",
    "# pipeline = Pipeline([\n",
    "#    ('scl', scalar),\n",
    "#    ('imp', imputer),\n",
    "#    ('pca', pca),\n",
    "#    ('clf', classifier),\n",
    "# ])\n",
    "# gs = GridSearchCV(pipeline, params, cv=10, scoring='roc_auc')\n",
    "# gs.fit(features.values, target)\n",
    "# print gs.best_score_\n",
    "# print gs.best_params_\n",
    "# predictions = gs.predict(X_test)\n",
    "# classification_report(y_test , predictions)\n",
    "#################################################################"
   ]
  },
  {
   "cell_type": "markdown",
   "metadata": {},
   "source": [
    "### load boston data"
   ]
  },
  {
   "cell_type": "code",
   "execution_count": 3,
   "metadata": {
    "collapsed": false
   },
   "outputs": [
    {
     "name": "stdout",
     "output_type": "stream",
     "text": [
      "Boston House Prices dataset\n",
      "\n",
      "Notes\n",
      "------\n",
      "Data Set Characteristics:  \n",
      "\n",
      "    :Number of Instances: 506 \n",
      "\n",
      "    :Number of Attributes: 13 numeric/categorical predictive\n",
      "    \n",
      "    :Median Value (attribute 14) is usually the target\n",
      "\n",
      "    :Attribute Information (in order):\n",
      "        - CRIM     per capita crime rate by town\n",
      "        - ZN       proportion of residential land zoned for lots over 25,000 sq.ft.\n",
      "        - INDUS    proportion of non-retail business acres per town\n",
      "        - CHAS     Charles River dummy variable (= 1 if tract bounds river; 0 otherwise)\n",
      "        - NOX      nitric oxides concentration (parts per 10 million)\n",
      "        - RM       average number of rooms per dwelling\n",
      "        - AGE      proportion of owner-occupied units built prior to 1940\n",
      "        - DIS      weighted distances to five Boston employment centres\n",
      "        - RAD      index of accessibility to radial highways\n",
      "        - TAX      full-value property-tax rate per $10,000\n",
      "        - PTRATIO  pupil-teacher ratio by town\n",
      "        - B        1000(Bk - 0.63)^2 where Bk is the proportion of blacks by town\n",
      "        - LSTAT    % lower status of the population\n",
      "        - MEDV     Median value of owner-occupied homes in $1000's\n",
      "\n",
      "    :Missing Attribute Values: None\n",
      "\n",
      "    :Creator: Harrison, D. and Rubinfeld, D.L.\n",
      "\n",
      "This is a copy of UCI ML housing dataset.\n",
      "http://archive.ics.uci.edu/m  .......(cont)\n"
     ]
    }
   ],
   "source": [
    "# load boston data\n",
    "from sklearn.datasets import load_boston\n",
    "sklearn_boston = load_boston()\n",
    "data = pd.DataFrame(data=sklearn_boston.data, columns=sklearn_boston.feature_names)\n",
    "data['target'] = sklearn_boston.target # mean house value\n",
    "print sklearn_boston.DESCR[:-1000] + '  .......(cont)'"
   ]
  },
  {
   "cell_type": "code",
   "execution_count": 4,
   "metadata": {
    "collapsed": true
   },
   "outputs": [
    {
     "data": {
      "text/plain": [
       "<matplotlib.collections.PathCollection at 0x207d9d30>"
      ]
     },
     "execution_count": 4,
     "metadata": {},
     "output_type": "execute_result"
    },
    {
     "name": "stderr",
     "output_type": "stream",
     "text": [
      "C:\\Users\\dmcdade\\AppData\\Local\\Continuum\\Anaconda\\lib\\site-packages\\matplotlib\\collections.py:590: FutureWarning: elementwise comparison failed; returning scalar instead, but in the future will perform elementwise comparison\n",
      "  if self._edgecolors == str('face'):\n"
     ]
    },
    {
     "data": {
      "image/png": "[encoded data removed]",
      "text/plain": [
       "<matplotlib.figure.Figure at 0x205ce518>"
      ]
     },
     "metadata": {},
     "output_type": "display_data"
    }
   ],
   "source": [
    "from matplotlib import pyplot as plt\n",
    "plt.scatter(sklearn_boston.data[:,5], sklearn_boston.target, color='r')"
   ]
  },
  {
   "cell_type": "code",
   "execution_count": 5,
   "metadata": {
    "collapsed": false,
    "scrolled": true
   },
   "outputs": [
    {
     "data": {
      "text/html": [
       "<div>\n",
       "<table border=\"1\" class=\"dataframe\">\n",
       "  <thead>\n",
       "    <tr style=\"text-align: right;\">\n",
       "      <th></th>\n",
       "      <th>CRIM</th>\n",
       "      <th>ZN</th>\n",
       "      <th>INDUS</th>\n",
       "      <th>CHAS</th>\n",
       "      <th>NOX</th>\n",
       "      <th>RM</th>\n",
       "      <th>AGE</th>\n",
       "      <th>DIS</th>\n",
       "      <th>RAD</th>\n",
       "      <th>TAX</th>\n",
       "      <th>PTRATIO</th>\n",
       "      <th>B</th>\n",
       "      <th>LSTAT</th>\n",
       "      <th>target</th>\n",
       "    </tr>\n",
       "  </thead>\n",
       "  <tbody>\n",
       "    <tr>\n",
       "      <th>0</th>\n",
       "      <td>0.00632</td>\n",
       "      <td>18.00000</td>\n",
       "      <td>2.31000</td>\n",
       "      <td>0.00000</td>\n",
       "      <td>0.53800</td>\n",
       "      <td>6.57500</td>\n",
       "      <td>65.20000</td>\n",
       "      <td>4.09000</td>\n",
       "      <td>1.00000</td>\n",
       "      <td>296.00000</td>\n",
       "      <td>15.30000</td>\n",
       "      <td>396.90000</td>\n",
       "      <td>4.98000</td>\n",
       "      <td>24.00000</td>\n",
       "    </tr>\n",
       "    <tr>\n",
       "      <th>1</th>\n",
       "      <td>0.02731</td>\n",
       "      <td>0.00000</td>\n",
       "      <td>7.07000</td>\n",
       "      <td>0.00000</td>\n",
       "      <td>0.46900</td>\n",
       "      <td>6.42100</td>\n",
       "      <td>78.90000</td>\n",
       "      <td>4.96710</td>\n",
       "      <td>2.00000</td>\n",
       "      <td>242.00000</td>\n",
       "      <td>17.80000</td>\n",
       "      <td>396.90000</td>\n",
       "      <td>9.14000</td>\n",
       "      <td>21.60000</td>\n",
       "    </tr>\n",
       "    <tr>\n",
       "      <th>2</th>\n",
       "      <td>0.02729</td>\n",
       "      <td>0.00000</td>\n",
       "      <td>7.07000</td>\n",
       "      <td>0.00000</td>\n",
       "      <td>0.46900</td>\n",
       "      <td>7.18500</td>\n",
       "      <td>61.10000</td>\n",
       "      <td>4.96710</td>\n",
       "      <td>2.00000</td>\n",
       "      <td>242.00000</td>\n",
       "      <td>17.80000</td>\n",
       "      <td>392.83000</td>\n",
       "      <td>4.03000</td>\n",
       "      <td>34.70000</td>\n",
       "    </tr>\n",
       "    <tr>\n",
       "      <th>3</th>\n",
       "      <td>0.03237</td>\n",
       "      <td>0.00000</td>\n",
       "      <td>2.18000</td>\n",
       "      <td>0.00000</td>\n",
       "      <td>0.45800</td>\n",
       "      <td>6.99800</td>\n",
       "      <td>45.80000</td>\n",
       "      <td>6.06220</td>\n",
       "      <td>3.00000</td>\n",
       "      <td>222.00000</td>\n",
       "      <td>18.70000</td>\n",
       "      <td>394.63000</td>\n",
       "      <td>2.94000</td>\n",
       "      <td>33.40000</td>\n",
       "    </tr>\n",
       "    <tr>\n",
       "      <th>4</th>\n",
       "      <td>0.06905</td>\n",
       "      <td>0.00000</td>\n",
       "      <td>2.18000</td>\n",
       "      <td>0.00000</td>\n",
       "      <td>0.45800</td>\n",
       "      <td>7.14700</td>\n",
       "      <td>54.20000</td>\n",
       "      <td>6.06220</td>\n",
       "      <td>3.00000</td>\n",
       "      <td>222.00000</td>\n",
       "      <td>18.70000</td>\n",
       "      <td>396.90000</td>\n",
       "      <td>5.33000</td>\n",
       "      <td>36.20000</td>\n",
       "    </tr>\n",
       "  </tbody>\n",
       "</table>\n",
       "</div>"
      ],
      "text/plain": [
       "     CRIM       ZN   INDUS    CHAS     NOX      RM      AGE     DIS     RAD  \\\n",
       "0 0.00632 18.00000 2.31000 0.00000 0.53800 6.57500 65.20000 4.09000 1.00000   \n",
       "1 0.02731  0.00000 7.07000 0.00000 0.46900 6.42100 78.90000 4.96710 2.00000   \n",
       "2 0.02729  0.00000 7.07000 0.00000 0.46900 7.18500 61.10000 4.96710 2.00000   \n",
       "3 0.03237  0.00000 2.18000 0.00000 0.45800 6.99800 45.80000 6.06220 3.00000   \n",
       "4 0.06905  0.00000 2.18000 0.00000 0.45800 7.14700 54.20000 6.06220 3.00000   \n",
       "\n",
       "        TAX  PTRATIO         B   LSTAT   target  \n",
       "0 296.00000 15.30000 396.90000 4.98000 24.00000  \n",
       "1 242.00000 17.80000 396.90000 9.14000 21.60000  \n",
       "2 242.00000 17.80000 392.83000 4.03000 34.70000  \n",
       "3 222.00000 18.70000 394.63000 2.94000 33.40000  \n",
       "4 222.00000 18.70000 396.90000 5.33000 36.20000  "
      ]
     },
     "execution_count": 5,
     "metadata": {},
     "output_type": "execute_result"
    }
   ],
   "source": [
    "data.head()"
   ]
  },
  {
   "cell_type": "markdown",
   "metadata": {},
   "source": [
    "### pulling data"
   ]
  },
  {
   "cell_type": "code",
   "execution_count": 7,
   "metadata": {
    "collapsed": true
   },
   "outputs": [],
   "source": [
    "# pandas remote data http://pandas.pydata.org/pandas-docs/stable/remote_data.html\n",
    "# includes connectors for FRED, FamaFrench, world bank, google analytics\n",
    "import pandas.io.data as web\n",
    "# ip = web.DataReader(\"5_Industry_Portfolios\", \"famafrench\") ; from pandas.io import wb; \n",
    "##\n",
    "# import datetime\n",
    "# start = datetime.datetime(2010, 1, 1)\n",
    "# end = datetime.datetime(2013, 1, 27)\n",
    "# f = web.DataReader(\"F\", 'yahoo', start, end)\n",
    "# options \n",
    "# from pandas.io.data import Options\n",
    "# aapl = Options('aapl', 'yahoo')"
   ]
  },
  {
   "cell_type": "code",
   "execution_count": 4,
   "metadata": {
    "collapsed": false
   },
   "outputs": [
    {
     "name": "stderr",
     "output_type": "stream",
     "text": [
      "C:\\Users\\dmcdade\\AppData\\Local\\Continuum\\Anaconda\\lib\\site-packages\\pandas\\io\\data.py:33: FutureWarning: \n",
      "The pandas.io.data module is moved to a separate package (pandas-datareader) and will be removed from pandas in a future version.\n",
      "After installing the pandas-datareader package (https://github.com/pydata/pandas-datareader), you can change the import ``from pandas.io import data, wb`` to ``from pandas_datareader import data, wb``.\n",
      "  FutureWarning)\n"
     ]
    }
   ],
   "source": [
    "import urllib2\n",
    "import pytz\n",
    "import pandas as pd\n",
    "\n",
    "from bs4 import BeautifulSoup\n",
    "from datetime import datetime\n",
    "import pandas.io.data as web\n",
    "\n",
    "\n",
    "WIKI_SITE = \"http://en.wikipedia.org/wiki/List_of_S%26P_500_companies\"\n",
    "CBOE_SITE = \"http://www.cboe.com/products/snp500.aspx\"\n",
    "START = datetime(1900, 1, 1, 0, 0, 0, 0, pytz.utc)\n",
    "END = datetime.today().utcnow()\n",
    "\n",
    "# Two scraper functions because i thought they were wrong but they arent\n",
    "\n",
    "def scrape_list(site):\n",
    "    hdr = {'User-Agent': 'Mozilla/5.0'}\n",
    "    req = urllib2.Request(site, headers=hdr)\n",
    "    page = urllib2.urlopen(req)\n",
    "    soup = BeautifulSoup(page)\n",
    "    table = soup.find('table', {'class': 'table'})\n",
    "    sector_tickers = pd.DataFrame()\n",
    "    for row in table.findAll('tr'):\n",
    "        row_vals = [col.text.strip().replace('\\n','').replace('\\t','') for col in row.findAll('td')]\n",
    "        if row_vals != ['']*len(row_vals):\n",
    "            sector_tickers = sector_tickers.append(pd.DataFrame(data=[row_vals])).reset_index(drop=True)\n",
    "    sector_tickers.columns = sector_tickers.ix[0]\n",
    "    sector_tickers = sector_tickers.ix[1:].reset_index(drop=True)\n",
    "    return sector_tickers\n",
    "\n",
    "def scrape_wiki_list(site):\n",
    "    hdr = {'User-Agent': 'Mozilla/5.0'}\n",
    "    req = urllib2.Request(site, headers=hdr)\n",
    "    page = urllib2.urlopen(req)\n",
    "    soup = BeautifulSoup(page)\n",
    "    table = soup.find('table', {'class': 'wikitable sortable'})\n",
    "    sector_tickers = pd.DataFrame()\n",
    "    # get data\n",
    "    for row in table.findAll('tr'):\n",
    "        row_vals = [col.text.strip().replace('\\n','').replace('\\t','') for col in row.findAll('td')]\n",
    "        if row_vals != ['']*len(row_vals):\n",
    "            sector_tickers = sector_tickers.append(pd.DataFrame(data=[row_vals])).reset_index(drop=True)\n",
    "    sector_tickers.columns = ['ticker', 'security', 'sec_filings', 'sector', 'sub_industry', \n",
    "                              'hq', 'date_added', 'cik']\n",
    "    #sector_tickers = sector_tickers.ix[1:].reset_index(drop=True)\n",
    "    return sector_tickers\n",
    "\n",
    "def download_ohlc(sector_tickers, start, end):\n",
    "    sector_ohlc = {}\n",
    "    for sector, tickers in sector_tickers.iteritems():\n",
    "        print 'Downloading data from Yahoo for %s sector' % sector\n",
    "        data = web.DataReader(tickers, 'yahoo', start, end)\n",
    "        for item in ['Open', 'High', 'Low']:\n",
    "            data[item] = data[item] * data['Adj Close'] / data['Close']\n",
    "        data.rename(items={'Open': 'open', 'High': 'high', 'Low': 'low',\n",
    "                           'Adj Close': 'close', 'Volume': 'volume'},\n",
    "                    inplace=True)\n",
    "        data.drop(['Close'], inplace=True)\n",
    "        sector_ohlc[sector] = data\n",
    "    print 'Finished downloading data'\n",
    "    return sector_ohlc\n",
    "\n",
    "\n",
    "def store_HDF5(sector_ohlc, path):\n",
    "    with pd.get_store(path) as store:\n",
    "        for sector, ohlc in sector_ohlc.iteritems():\n",
    "            store[sector] = ohlc\n",
    "\n",
    "\n",
    "def get_snp500():\n",
    "    sector_tickers = scrape_list(SITE)\n",
    "    sector_ohlc = download_ohlc(sector_tickers, START, END)\n",
    "    store_HDF5(sector_ohlc, 'snp500.h5')\n",
    "\n",
    "\n",
    "#if __name__ == '__main__':\n",
    "#    get_snp500()"
   ]
  },
  {
   "cell_type": "code",
   "execution_count": 6,
   "metadata": {
    "collapsed": false
   },
   "outputs": [],
   "source": [
    "scrape_list(CBOE_SITE)\n",
    "wiki_500 = scrape_wiki_list(WIKI_SITE)"
   ]
  },
  {
   "cell_type": "code",
   "execution_count": null,
   "metadata": {
    "collapsed": true
   },
   "outputs": [],
   "source": []
  },
  {
   "cell_type": "code",
   "execution_count": 49,
   "metadata": {
    "collapsed": false
   },
   "outputs": [
    {
     "data": {
      "text/plain": [
       "datetime.datetime(1900, 1, 1, 0, 0, tzinfo=<UTC>)"
      ]
     },
     "execution_count": 49,
     "metadata": {},
     "output_type": "execute_result"
    }
   ],
   "source": [
    "datetime(1900, 1, 1, 0, 0, 0, 0, pytz.utc)"
   ]
  },
  {
   "cell_type": "code",
   "execution_count": null,
   "metadata": {
    "collapsed": true
   },
   "outputs": [],
   "source": []
  },
  {
   "cell_type": "code",
   "execution_count": null,
   "metadata": {
    "collapsed": true
   },
   "outputs": [],
   "source": []
  },
  {
   "cell_type": "code",
   "execution_count": 51,
   "metadata": {
    "collapsed": false
   },
   "outputs": [],
   "source": [
    "mm_data = web.DataReader('MMM', 'yahoo', datetime(1900, 1, 1, 0, 0, 0, 0, pytz.utc), datetime.today().utcnow())"
   ]
  },
  {
   "cell_type": "code",
   "execution_count": 57,
   "metadata": {
    "collapsed": true
   },
   "outputs": [
    {
     "data": {
      "text/plain": [
       "<matplotlib.axes._subplots.AxesSubplot at 0x25d90828>"
      ]
     },
     "execution_count": 57,
     "metadata": {},
     "output_type": "execute_result"
    },
    {
     "data": {
      "image/png": "[encoded data removed]",
      "text/plain": [
       "<matplotlib.figure.Figure at 0x268067b8>"
      ]
     },
     "metadata": {},
     "output_type": "display_data"
    }
   ],
   "source": [
    "mm_data[['Open']].plot()"
   ]
  },
  {
   "cell_type": "code",
   "execution_count": null,
   "metadata": {
    "collapsed": true
   },
   "outputs": [],
   "source": []
  },
  {
   "cell_type": "code",
   "execution_count": null,
   "metadata": {
    "collapsed": true
   },
   "outputs": [],
   "source": [
    "from sklearn.linear_model import SGDRegressor"
   ]
  },
  {
   "cell_type": "code",
   "execution_count": null,
   "metadata": {
    "collapsed": true
   },
   "outputs": [],
   "source": []
  },
  {
   "cell_type": "code",
   "execution_count": 8,
   "metadata": {
    "collapsed": false
   },
   "outputs": [
    {
     "data": {
      "text/plain": [
       "Financials                     88\n",
       "Consumer Discretionary         87\n",
       "Information Technology         68\n",
       "Industrials                    68\n",
       "Health Care                    55\n",
       "Energy                         40\n",
       "Consumer Staples               37\n",
       "Utilities                      29\n",
       "Materials                      28\n",
       "Telecommunications Services     5\n",
       "Name: sector, dtype: int64"
      ]
     },
     "execution_count": 8,
     "metadata": {},
     "output_type": "execute_result"
    }
   ],
   "source": [
    "wiki_500.sector.value_counts()"
   ]
  },
  {
   "cell_type": "code",
   "execution_count": null,
   "metadata": {
    "collapsed": true
   },
   "outputs": [],
   "source": []
  }
 ],
 "metadata": {
  "kernelspec": {
   "display_name": "Python 2",
   "language": "python",
   "name": "python2"
  },
  "language_info": {
   "codemirror_mode": {
    "name": "ipython",
    "version": 2
   },
   "file_extension": ".py",
   "mimetype": "text/x-python",
   "name": "python",
   "nbconvert_exporter": "python",
   "pygments_lexer": "ipython2",
   "version": "2.7.10"
  }
 },
 "nbformat": 4,
 "nbformat_minor": 0
}
