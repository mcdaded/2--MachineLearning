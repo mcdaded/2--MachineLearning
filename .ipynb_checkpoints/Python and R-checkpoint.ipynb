{
 "cells": [
  {
   "cell_type": "code",
   "execution_count": 18,
   "metadata": {
    "collapsed": true
   },
   "outputs": [],
   "source": [
    "import pandas as pd\n",
    "import pyper as pr\n",
    "\n",
    "r = pr.R(use_pandas=True)"
   ]
  },
  {
   "cell_type": "code",
   "execution_count": 19,
   "metadata": {
    "collapsed": false
   },
   "outputs": [
    {
     "data": {
      "text/html": [
       "<div>\n",
       "<table border=\"1\" class=\"dataframe\">\n",
       "  <thead>\n",
       "    <tr style=\"text-align: right;\">\n",
       "      <th></th>\n",
       "      <th>UKgas</th>\n",
       "    </tr>\n",
       "    <tr>\n",
       "      <th>time</th>\n",
       "      <th></th>\n",
       "    </tr>\n",
       "  </thead>\n",
       "  <tbody>\n",
       "    <tr>\n",
       "      <th>1960-01-01</th>\n",
       "      <td>160.1</td>\n",
       "    </tr>\n",
       "    <tr>\n",
       "      <th>1960-04-01</th>\n",
       "      <td>129.7</td>\n",
       "    </tr>\n",
       "    <tr>\n",
       "      <th>1960-07-01</th>\n",
       "      <td>84.8</td>\n",
       "    </tr>\n",
       "    <tr>\n",
       "      <th>1960-10-01</th>\n",
       "      <td>120.1</td>\n",
       "    </tr>\n",
       "    <tr>\n",
       "      <th>1961-01-01</th>\n",
       "      <td>160.1</td>\n",
       "    </tr>\n",
       "  </tbody>\n",
       "</table>\n",
       "</div>"
      ],
      "text/plain": [
       "            UKgas\n",
       "time             \n",
       "1960-01-01  160.1\n",
       "1960-04-01  129.7\n",
       "1960-07-01   84.8\n",
       "1960-10-01  120.1\n",
       "1961-01-01  160.1"
      ]
     },
     "execution_count": 19,
     "metadata": {},
     "output_type": "execute_result"
    }
   ],
   "source": [
    "# read some sample UK Gas stuff, http://blog.yhat.com/posts/rpy2-combing-the-power-of-r-and-python.html\n",
    "ukgas = pd.read_csv('https://vincentarelbundock.github.io/Rdatasets/csv/datasets/UKgas.csv', index_col=0)\n",
    "\n",
    "date_mapper = {'0': '01', '25': '04', '5': '07', '75': '10'}\n",
    "ukgas['time'] = ukgas['time'].apply(\n",
    "    lambda x: pd.to_datetime('{0}-{1}-01'.format(str(x).split('.')[0], date_mapper[str(x).split('.')[1]]))\n",
    ")\n",
    "ukgas.set_index('time', inplace=True)\n",
    "ukgas.head()"
   ]
  },
  {
   "cell_type": "code",
   "execution_count": 5,
   "metadata": {
    "collapsed": false
   },
   "outputs": [
    {
     "data": {
      "text/plain": [
       "\"try({install.packages('forecast', repos='http://cran.us.r-project.org')})\\r\\nalso installing the dependencies 'quadprog', 'timeDate', 'tseries', 'fracdiff', 'RcppArmadillo'\\r\\n\\r\\ntrying URL 'http://cran.us.r-project.org/bin/windows/contrib/3.3/quadprog_1.5-5.zip'\\r\\nContent type 'application/zip' length 52439 bytes (51 KB)\\r\\n==================================================\\r\\ndownloaded 51 KB\\r\\n\\r\\ntrying URL 'http://cran.us.r-project.org/bin/windows/contrib/3.3/timeDate_3012.100.zip'\\r\\nContent type 'application/zip' length 789672 bytes (771 KB)\\r\\n==================================================\\r\\ndownloaded 771 KB\\r\\n\\r\\ntrying URL 'http://cran.us.r-project.org/bin/windows/contrib/3.3/tseries_0.10-35.zip'\\r\\nContent type 'application/zip' length 327381 bytes (319 KB)\\r\\n==================================================\\r\\ndownloaded 319 KB\\r\\n\\r\\ntrying URL 'http://cran.us.r-project.org/bin/windows/contrib/3.3/fracdiff_1.4-2.zip'\\r\\nContent type 'application/zip' length 106223 bytes (103 KB)\\r\\n==================================================\\r\\ndownloaded 103 KB\\r\\n\\r\\ntrying URL 'http://cran.us.r-project.org/bin/windows/contrib/3.3/RcppArmadillo_0.7.100.3.1.zip'\\r\\nContent type 'application/zip' length 1791851 bytes (1.7 MB)\\r\\n==================================================\\r\\ndownloaded 1.7 MB\\r\\n\\r\\ntrying URL 'http://cran.us.r-project.org/bin/windows/contrib/3.3/forecast_7.1.zip'\\r\\nContent type 'application/zip' length 1398346 bytes (1.3 MB)\\r\\n==================================================\\r\\ndownloaded 1.3 MB\\r\\n\\r\\npackage 'quadprog' successfully unpacked and MD5 sums checked\\r\\npackage 'timeDate' successfully unpacked and MD5 sums checked\\r\\npackage 'tseries' successfully unpacked and MD5 sums checked\\r\\npackage 'fracdiff' successfully unpacked and MD5 sums checked\\r\\npackage 'RcppArmadillo' successfully unpacked and MD5 sums checked\\r\\npackage 'forecast' successfully unpacked and MD5 sums checked\\r\\n\\r\\nThe downloaded binary packages are in\\r\\n\\tC:\\\\Users\\\\dmcdade\\\\AppData\\\\Local\\\\Temp\\\\RtmpExIaOU\\\\downloaded_packages\\r\\n\""
      ]
     },
     "execution_count": 5,
     "metadata": {},
     "output_type": "execute_result"
    }
   ],
   "source": [
    "r(\"install.packages('forecast', repos='http://cran.us.r-project.org')\")"
   ]
  },
  {
   "cell_type": "code",
   "execution_count": 21,
   "metadata": {
    "collapsed": false
   },
   "outputs": [
    {
     "data": {
      "text/plain": [
       "\"try({library(forecast)})\\r\\nLoading required package: zoo\\r\\n\\r\\nAttaching package: 'zoo'\\r\\n\\r\\nThe following objects are masked from 'package:base':\\r\\n\\r\\n    as.Date, as.Date.numeric\\r\\n\\r\\nLoading required package: timeDate\\r\\nThis is forecast 7.1 \\r\\n\\r\\nWarning message:\\r\\npackage 'forecast' was built under R version 3.3.1 \\r\\n\""
      ]
     },
     "execution_count": 21,
     "metadata": {},
     "output_type": "execute_result"
    }
   ],
   "source": [
    "r(\"library(forecast)\")"
   ]
  },
  {
   "cell_type": "code",
   "execution_count": 20,
   "metadata": {
    "collapsed": false
   },
   "outputs": [
    {
     "data": {
      "text/plain": [
       "'try({x <- c(2, 4, 6, 8)})\\r\\n'"
      ]
     },
     "execution_count": 20,
     "metadata": {},
     "output_type": "execute_result"
    }
   ],
   "source": [
    "r(\"x <- c(2, 4, 6, 8)\")"
   ]
  },
  {
   "cell_type": "code",
   "execution_count": 22,
   "metadata": {
    "collapsed": false
   },
   "outputs": [
    {
     "data": {
      "text/plain": [
       "'try({x})\\r\\n[1] 2 4 6 8\\r\\n'"
      ]
     },
     "execution_count": 22,
     "metadata": {},
     "output_type": "execute_result"
    }
   ],
   "source": [
    "r(\"x\")"
   ]
  },
  {
   "cell_type": "code",
   "execution_count": 23,
   "metadata": {
    "collapsed": false
   },
   "outputs": [
    {
     "data": {
      "text/plain": [
       "'try({cos(pi/2)})\\r\\n[1] 6.123032e-17\\r\\n'"
      ]
     },
     "execution_count": 23,
     "metadata": {},
     "output_type": "execute_result"
    }
   ],
   "source": [
    "r('cos(pi/2)')"
   ]
  },
  {
   "cell_type": "code",
   "execution_count": 24,
   "metadata": {
    "collapsed": false
   },
   "outputs": [],
   "source": [
    "r.assign(\"a\", xrange(5) )"
   ]
  },
  {
   "cell_type": "code",
   "execution_count": null,
   "metadata": {
    "collapsed": true
   },
   "outputs": [],
   "source": []
  }
 ],
 "metadata": {
  "kernelspec": {
   "display_name": "Python 2",
   "language": "python",
   "name": "python2"
  },
  "language_info": {
   "codemirror_mode": {
    "name": "ipython",
    "version": 2
   },
   "file_extension": ".py",
   "mimetype": "text/x-python",
   "name": "python",
   "nbconvert_exporter": "python",
   "pygments_lexer": "ipython2",
   "version": "2.7.11"
  }
 },
 "nbformat": 4,
 "nbformat_minor": 0
}
