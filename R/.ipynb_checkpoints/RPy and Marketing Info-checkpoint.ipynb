{
 "cells": [
  {
   "cell_type": "code",
   "execution_count": 11,
   "metadata": {
    "collapsed": true
   },
   "outputs": [],
   "source": [
    "import pandas as pd\n",
    "import numpy as np\n",
    "import os\n",
    "import sys\n",
    "import re\n",
    "import traceback\n",
    "from sqlalchemy import create_engine, text\n",
    "\n",
    "from IPython.core.pylabtools import figsize\n",
    "from matplotlib import pyplot as plt\n",
    "%matplotlib inline\n",
    "figsize(11, 9)\n",
    "\n",
    "for pd_option in ['display.max_rows', 'display.max_colwidth', 'display.max_columns']:\n",
    "    pd.set_option(pd_option, 500)  # http://pandas.pydata.org/pandas-docs/stable/generated/pandas.set_option.html\n",
    "\n",
    "# pd.set_option('precision', 5)\n",
    "# pd.set_option('display.float_format', lambda x: '%.5f' % x)\n",
    "\n",
    "from pandasql import *\n",
    "def pysqldf(q):\n",
    "    return sqldf(q, globals())"
   ]
  },
  {
   "cell_type": "code",
   "execution_count": 12,
   "metadata": {
    "collapsed": true
   },
   "outputs": [],
   "source": [
    "from pandasql import *\n",
    "def pysqldf(q):\n",
    "    return sqldf(q, globals())"
   ]
  },
  {
   "cell_type": "markdown",
   "metadata": {},
   "source": [
    "# R Interface"
   ]
  },
  {
   "cell_type": "code",
   "execution_count": 3,
   "metadata": {
    "collapsed": false
   },
   "outputs": [],
   "source": [
    "%load_ext rpy2.ipython"
   ]
  },
  {
   "cell_type": "code",
   "execution_count": 13,
   "metadata": {
    "collapsed": true
   },
   "outputs": [],
   "source": [
    "%reload_ext rpy2.ipython"
   ]
  },
  {
   "cell_type": "code",
   "execution_count": 14,
   "metadata": {
    "collapsed": false,
    "scrolled": true
   },
   "outputs": [
    {
     "data": {
      "text/plain": [
       "array([ 4.25])"
      ]
     },
     "execution_count": 14,
     "metadata": {},
     "output_type": "execute_result"
    }
   ],
   "source": [
    "%R X=c(1,4,5,7); sd(X); mean(X)"
   ]
  },
  {
   "cell_type": "code",
   "execution_count": 15,
   "metadata": {
    "collapsed": true
   },
   "outputs": [],
   "source": [
    "%%R\n",
    "\n",
    "X <- runif(10)\n",
    "Y <- runif(10)"
   ]
  },
  {
   "cell_type": "code",
   "execution_count": 16,
   "metadata": {
    "collapsed": false
   },
   "outputs": [
    {
     "data": {
      "text/plain": [
       "array([ 0.77930688,  0.41617586,  0.2402018 ,  0.6234532 ,  0.95849394,\n",
       "        0.52609003,  0.11146227,  0.70167137,  0.3429118 ,  0.23576927])"
      ]
     },
     "execution_count": 16,
     "metadata": {},
     "output_type": "execute_result"
    }
   ],
   "source": [
    "%R X"
   ]
  },
  {
   "cell_type": "code",
   "execution_count": 7,
   "metadata": {
    "collapsed": true
   },
   "outputs": [
    {
     "data": {
      "image/png": "[encoded data removed]"
     },
     "metadata": {},
     "output_type": "display_data"
    }
   ],
   "source": [
    "%R plot(X, Y)"
   ]
  },
  {
   "cell_type": "code",
   "execution_count": 37,
   "metadata": {
    "collapsed": true
   },
   "outputs": [],
   "source": [
    "%%R \n",
    "own_home <- matrix(c(137,123,22,18), ncol=2, byrow=TRUE)\n",
    "own_home"
   ]
  },
  {
   "cell_type": "code",
   "execution_count": 18,
   "metadata": {
    "collapsed": true
   },
   "outputs": [],
   "source": [
    "%%R \n",
    "\n",
    "own_home <- matrix(c(137,123,22,18), ncol=2, byrow=TRUE)\n",
    "colnames(own_home) <- c(\"ownNo\",\"ownYes\")\n",
    "rownames(own_home) <- c(\"subNo\",\"subYes\")\n",
    "own_home <- as.table(own_home)\n",
    "own_home"
   ]
  },
  {
   "cell_type": "code",
   "execution_count": 19,
   "metadata": {
    "collapsed": false
   },
   "outputs": [],
   "source": [
    "%Rpull own_home"
   ]
  },
  {
   "cell_type": "code",
   "execution_count": 20,
   "metadata": {
    "collapsed": false
   },
   "outputs": [
    {
     "data": {
      "text/plain": [
       "array([[ 137.,  123.],\n",
       "       [  22.,   18.]])"
      ]
     },
     "execution_count": 20,
     "metadata": {},
     "output_type": "execute_result"
    }
   ],
   "source": [
    "own_home"
   ]
  },
  {
   "cell_type": "code",
   "execution_count": null,
   "metadata": {
    "collapsed": true
   },
   "outputs": [],
   "source": [
    "smoke <- matrix(c(51,43,22,92,28,21,68,22,9),ncol=3,byrow=TRUE)\n",
    "colnames(smoke) <- c(\"High\",\"Low\",\"Middle\")\n",
    "rownames(smoke) <- c(\"current\",\"former\",\"never\")\n",
    "smoke <- as.table(smoke)\n",
    "smoke"
   ]
  },
  {
   "cell_type": "code",
   "execution_count": 29,
   "metadata": {
    "collapsed": false
   },
   "outputs": [],
   "source": [
    "%%R \n",
    "test <- chisq.test(own_home)\n",
    "print(test)"
   ]
  },
  {
   "cell_type": "code",
   "execution_count": 36,
   "metadata": {
    "collapsed": false
   },
   "outputs": [],
   "source": [
    "%%R \n",
    "\n",
    "print(1)"
   ]
  },
  {
   "cell_type": "code",
   "execution_count": 25,
   "metadata": {
    "collapsed": true
   },
   "outputs": [],
   "source": [
    "%Rpull test"
   ]
  },
  {
   "cell_type": "code",
   "execution_count": 28,
   "metadata": {
    "collapsed": false
   },
   "outputs": [
    {
     "data": {
      "text/plain": [
       "<ListVector - Python:0x00000000096EC048 / R:0x000000000BE0BCB8>\n",
       "[Float..., IntVe..., Float..., ..., Matrix, Matrix, Matrix]\n",
       "  statistic: <class 'rpy2.robjects.vectors.FloatVector'>\n",
       "  <FloatVector - Python:0x000000000966BB48 / R:0x000000000D7EADB0>\n",
       "[0.010422]\n",
       "  parameter: <class 'rpy2.robjects.vectors.IntVector'>\n",
       "  <IntVector - Python:0x000000000966BA48 / R:0x000000000D7EAD80>\n",
       "[       1]\n",
       "  p.value: <class 'rpy2.robjects.vectors.FloatVector'>\n",
       "  <FloatVector - Python:0x000000000966BAC8 / R:0x000000000D7EADE0>\n",
       "[0.918686]\n",
       "  ...\n",
       "  statistic: <class 'rpy2.robjects.vectors.Matrix'>\n",
       "  <Matrix - Python:0x000000000966B248 / R:0x000000000DD75DF8>\n",
       "[137.800000, 21.200000, 122.200000, 18.800000]\n",
       "  parameter: <class 'rpy2.robjects.vectors.Matrix'>\n",
       "  <Matrix - Python:0x0000000003F78788 / R:0x000000000DD75A98>\n",
       "[-0.068150, 0.173749, 0.072369, -0.184506]\n",
       "  p.value: <class 'rpy2.robjects.vectors.Matrix'>\n",
       "  <Matrix - Python:0x0000000009566908 / R:0x000000000DD75A08>\n",
       "[-0.272237, 0.272237, 0.272237, -0.272237]"
      ]
     },
     "execution_count": 28,
     "metadata": {},
     "output_type": "execute_result"
    }
   ],
   "source": [
    "test"
   ]
  },
  {
   "cell_type": "code",
   "execution_count": 38,
   "metadata": {
    "collapsed": false
   },
   "outputs": [
    {
     "name": "stdout",
     "output_type": "stream",
     "text": [
      "2.7.8\n"
     ]
    }
   ],
   "source": [
    "import rpy2\n",
    "print(rpy2.__version__)"
   ]
  },
  {
   "cell_type": "code",
   "execution_count": 39,
   "metadata": {
    "collapsed": true
   },
   "outputs": [],
   "source": [
    "import rpy2.robjects as robjects"
   ]
  },
  {
   "cell_type": "code",
   "execution_count": 40,
   "metadata": {
    "collapsed": true
   },
   "outputs": [],
   "source": [
    "from rpy2.robjects.packages import importr\n",
    "# import R's \"base\" package\n",
    "base = importr('base')\n",
    "\n",
    "# import R's \"utils\" package\n",
    "utils = importr('utils')"
   ]
  },
  {
   "cell_type": "code",
   "execution_count": 41,
   "metadata": {
    "collapsed": false
   },
   "outputs": [
    {
     "data": {
      "text/plain": [
       "<FloatVector - Python:0x0000000009BED348 / R:0x000000000DDE2C10>\n",
       "[3.141593]"
      ]
     },
     "execution_count": 41,
     "metadata": {},
     "output_type": "execute_result"
    }
   ],
   "source": [
    "pi = robjects.r['pi']\n",
    "pi"
   ]
  },
  {
   "cell_type": "code",
   "execution_count": 42,
   "metadata": {
    "collapsed": false
   },
   "outputs": [
    {
     "data": {
      "text/plain": [
       "3.141592653589793"
      ]
     },
     "execution_count": 42,
     "metadata": {},
     "output_type": "execute_result"
    }
   ],
   "source": [
    "pi[0]"
   ]
  },
  {
   "cell_type": "code",
   "execution_count": null,
   "metadata": {
    "collapsed": true
   },
   "outputs": [],
   "source": []
  }
 ],
 "metadata": {
  "kernelspec": {
   "display_name": "Python 2",
   "language": "python",
   "name": "python2"
  },
  "language_info": {
   "codemirror_mode": {
    "name": "ipython",
    "version": 2
   },
   "file_extension": ".py",
   "mimetype": "text/x-python",
   "name": "python",
   "nbconvert_exporter": "python",
   "pygments_lexer": "ipython2",
   "version": "2.7.11"
  }
 },
 "nbformat": 4,
 "nbformat_minor": 0
}
