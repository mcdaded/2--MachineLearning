{
 "cells": [
  {
   "cell_type": "markdown",
   "metadata": {},
   "source": [
    "# R for Marketing Research and Analytics\n",
    "--------------------------------------------------------------------\n",
    "#### Identify new "
   ]
  },
  {
   "cell_type": "code",
   "execution_count": 1,
   "metadata": {
    "collapsed": true
   },
   "outputs": [],
   "source": [
    "store.df <- read.csv(\"http://goo.gl/QPDdMl\")"
   ]
  },
  {
   "cell_type": "code",
   "execution_count": 6,
   "metadata": {
    "collapsed": false
   },
   "outputs": [
    {
     "data": {
      "text/html": [
       "<table>\n",
       "<thead><tr><th></th><th scope=col>storeNum</th><th scope=col>Year</th><th scope=col>Week</th><th scope=col>p1sales</th><th scope=col>p2sales</th><th scope=col>p1price</th><th scope=col>p2price</th><th scope=col>p1prom</th><th scope=col>p2prom</th><th scope=col>country</th></tr></thead>\n",
       "<tbody>\n",
       "\t<tr><th scope=row>1</th><td>101</td><td>1</td><td>1</td><td>127</td><td>106</td><td>2.29</td><td>2.29</td><td>0</td><td>0</td><td>US</td></tr>\n",
       "\t<tr><th scope=row>2</th><td>101</td><td>1</td><td>2</td><td>137</td><td>105</td><td>2.49</td><td>2.49</td><td>0</td><td>0</td><td>US</td></tr>\n",
       "\t<tr><th scope=row>3</th><td>101</td><td>1</td><td>3</td><td>156</td><td>97</td><td>2.99</td><td>2.99</td><td>1</td><td>0</td><td>US</td></tr>\n",
       "\t<tr><th scope=row>4</th><td>101</td><td>1</td><td>4</td><td>117</td><td>106</td><td>2.99</td><td>3.19</td><td>0</td><td>0</td><td>US</td></tr>\n",
       "\t<tr><th scope=row>5</th><td>101</td><td>1</td><td>5</td><td>138</td><td>100</td><td>2.49</td><td>2.59</td><td>0</td><td>1</td><td>US</td></tr>\n",
       "\t<tr><th scope=row>6</th><td>101</td><td>1</td><td>6</td><td>115</td><td>127</td><td>2.79</td><td>2.49</td><td>0</td><td>0</td><td>US</td></tr>\n",
       "</tbody>\n",
       "</table>\n"
      ],
      "text/latex": [
       "\\begin{tabular}{r|llllllllll}\n",
       "  & storeNum & Year & Week & p1sales & p2sales & p1price & p2price & p1prom & p2prom & country\\\\\n",
       "\\hline\n",
       "\t1 & 101 & 1 & 1 & 127 & 106 & 2.29 & 2.29 & 0 & 0 & US\\\\\n",
       "\t2 & 101 & 1 & 2 & 137 & 105 & 2.49 & 2.49 & 0 & 0 & US\\\\\n",
       "\t3 & 101 & 1 & 3 & 156 & 97 & 2.99 & 2.99 & 1 & 0 & US\\\\\n",
       "\t4 & 101 & 1 & 4 & 117 & 106 & 2.99 & 3.19 & 0 & 0 & US\\\\\n",
       "\t5 & 101 & 1 & 5 & 138 & 100 & 2.49 & 2.59 & 0 & 1 & US\\\\\n",
       "\t6 & 101 & 1 & 6 & 115 & 127 & 2.79 & 2.49 & 0 & 0 & US\\\\\n",
       "\\end{tabular}\n"
      ],
      "text/plain": [
       "  storeNum Year Week p1sales p2sales p1price p2price p1prom p2prom country\n",
       "1      101    1    1     127     106    2.29    2.29      0      0      US\n",
       "2      101    1    2     137     105    2.49    2.49      0      0      US\n",
       "3      101    1    3     156      97    2.99    2.99      1      0      US\n",
       "4      101    1    4     117     106    2.99    3.19      0      0      US\n",
       "5      101    1    5     138     100    2.49    2.59      0      1      US\n",
       "6      101    1    6     115     127    2.79    2.49      0      0      US"
      ]
     },
     "metadata": {},
     "output_type": "display_data"
    }
   ],
   "source": [
    "head(store.df)"
   ]
  },
  {
   "cell_type": "code",
   "execution_count": null,
   "metadata": {
    "collapsed": true
   },
   "outputs": [],
   "source": []
  }
 ],
 "metadata": {
  "kernelspec": {
   "display_name": "R",
   "language": "R",
   "name": "ir"
  },
  "language_info": {
   "codemirror_mode": "r",
   "file_extension": ".r",
   "mimetype": "text/x-r-source",
   "name": "R",
   "pygments_lexer": "r",
   "version": "3.3.0"
  }
 },
 "nbformat": 4,
 "nbformat_minor": 0
}
