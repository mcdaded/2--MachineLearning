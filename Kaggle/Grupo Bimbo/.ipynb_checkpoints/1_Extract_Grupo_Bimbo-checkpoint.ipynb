{
 "cells": [
  {
   "cell_type": "code",
   "execution_count": 26,
   "metadata": {
    "collapsed": true
   },
   "outputs": [],
   "source": [
    "import pandas as pd\n",
    "import numpy as np\n",
    "import os\n",
    "import sys\n",
    "import zipfile\n",
    "from StringIO import StringIO"
   ]
  },
  {
   "cell_type": "code",
   "execution_count": null,
   "metadata": {
    "collapsed": true
   },
   "outputs": [],
   "source": [
    "# https://docs.python.org/2/library/zipfile.html"
   ]
  },
  {
   "cell_type": "markdown",
   "metadata": {},
   "source": [
    "### Extract the data "
   ]
  },
  {
   "cell_type": "code",
   "execution_count": 18,
   "metadata": {
    "collapsed": false
   },
   "outputs": [
    {
     "name": "stdout",
     "output_type": "stream",
     "text": [
      "cliente_tabla.csv.zip ['cliente_tabla.csv']\n",
      "producto_tabla.csv.zip ['producto_tabla.csv']\n",
      "sample_submission.csv.zip ['sample_submission.csv']\n",
      "test.csv.zip ['test.csv']\n",
      "town_state.csv.zip ['town_state.csv']\n",
      "train.csv.zip ['train.csv']\n"
     ]
    }
   ],
   "source": [
    "files_dir = 'D:\\GitHub\\datasets\\grupo\\data_zip'\n",
    "for zipfilename in os.listdir(files_dir):\n",
    "    zf = zipfile.ZipFile(files_dir + '\\\\' + zipfilename, 'r')\n",
    "    print zipfilename, zf.namelist()"
   ]
  },
  {
   "cell_type": "markdown",
   "metadata": {},
   "source": [
    "#### Parse the individual files"
   ]
  },
  {
   "cell_type": "code",
   "execution_count": null,
   "metadata": {
    "collapsed": true
   },
   "outputs": [],
   "source": [
    "# Client Table\n",
    "file_data = files_dir + '\\\\' + 'cliente_tabla.csv.zip'\n",
    "client_table_str = zipfile.ZipFile(file_data, 'r').read('cliente_tabla.csv')\n",
    "client_table = pd.read_csv(StringIO(client_table_str))\n",
    "print client_table.shape"
   ]
  },
  {
   "cell_type": "code",
   "execution_count": null,
   "metadata": {
    "collapsed": true
   },
   "outputs": [],
   "source": [
    "# Product Table\n",
    "file_data = files_dir + '\\\\' + 'producto_tabla.csv.zip'\n",
    "producto_table_str = zipfile.ZipFile(file_data, 'r').read('producto_tabla.csv')\n",
    "product_table = pd.read_csv(StringIO(producto_table_str))\n",
    "print product_table.shape"
   ]
  },
  {
   "cell_type": "code",
   "execution_count": null,
   "metadata": {
    "collapsed": true
   },
   "outputs": [],
   "source": [
    "# Town and State\n",
    "file_data = files_dir + '\\\\' + 'town_state.csv.zip'\n",
    "town_state_str = zipfile.ZipFile(file_data, 'r').read('town_state.csv')\n",
    "town_state = pd.read_csv(StringIO(town_state_str))\n",
    "print town_state.shape"
   ]
  },
  {
   "cell_type": "code",
   "execution_count": null,
   "metadata": {
    "collapsed": true
   },
   "outputs": [],
   "source": [
    "# Testing Data\n",
    "file_data = files_dir + '\\\\' + 'test.csv.zip'\n",
    "test_str = zipfile.ZipFile(file_data, 'r').read('test.csv')\n",
    "test = pd.read_csv(StringIO(test_str))\n",
    "print test.shape"
   ]
  },
  {
   "cell_type": "code",
   "execution_count": null,
   "metadata": {
    "collapsed": true
   },
   "outputs": [],
   "source": [
    "# Training Data\n",
    "file_data = files_dir + '\\\\' + 'train.csv.zip'\n",
    "train_str = zipfile.ZipFile(file_data, 'r').read('train.csv')\n",
    "train = pd.read_csv(StringIO(train_str))\n",
    "print train.shape"
   ]
  },
  {
   "cell_type": "code",
   "execution_count": null,
   "metadata": {
    "collapsed": true
   },
   "outputs": [],
   "source": [
    "# Sample Submission"
   ]
  },
  {
   "cell_type": "markdown",
   "metadata": {},
   "source": [
    "### Explore the training, town and state, and product table data"
   ]
  },
  {
   "cell_type": "code",
   "execution_count": null,
   "metadata": {
    "collapsed": true
   },
   "outputs": [],
   "source": []
  }
 ],
 "metadata": {
  "kernelspec": {
   "display_name": "Python 2",
   "language": "python",
   "name": "python2"
  },
  "language_info": {
   "codemirror_mode": {
    "name": "ipython",
    "version": 2
   },
   "file_extension": ".py",
   "mimetype": "text/x-python",
   "name": "python",
   "nbconvert_exporter": "python",
   "pygments_lexer": "ipython2",
   "version": "2.7.11"
  }
 },
 "nbformat": 4,
 "nbformat_minor": 0
}
